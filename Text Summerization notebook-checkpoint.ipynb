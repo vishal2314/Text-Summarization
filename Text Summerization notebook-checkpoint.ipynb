{
 "cells": [
  {
   "cell_type": "markdown",
   "id": "2a5a1130-6d48-4147-9b39-37f6f724a8d2",
   "metadata": {},
   "source": [
    "# Extractive text Summerization using NLP techniques"
   ]
  },
  {
   "cell_type": "markdown",
   "id": "af722018-1d87-4209-ad5c-ed35c248ec36",
   "metadata": {},
   "source": [
    "# Step 1: Set Up Your Environment"
   ]
  },
  {
   "cell_type": "markdown",
   "id": "08643827-ffb9-4158-b24f-daa3958f0f6a",
   "metadata": {},
   "source": [
    "## 1.Install Required Libraries:"
   ]
  },
  {
   "cell_type": "code",
   "execution_count": 15,
   "id": "cf91e569-509d-47cb-af08-005abb8a1dd9",
   "metadata": {},
   "outputs": [
    {
     "name": "stdout",
     "output_type": "stream",
     "text": [
      "Requirement already satisfied: nltk in c:\\users\\visut\\appdata\\local\\programs\\python\\python312\\lib\\site-packages (3.8.1)\n",
      "Requirement already satisfied: spacy in c:\\users\\visut\\appdata\\local\\programs\\python\\python312\\lib\\site-packages (3.7.5)\n",
      "Requirement already satisfied: gensim in c:\\users\\visut\\appdata\\local\\programs\\python\\python312\\lib\\site-packages (4.3.3)\n",
      "Requirement already satisfied: scikit-learn in c:\\users\\visut\\appdata\\local\\programs\\python\\python312\\lib\\site-packages (1.5.0)\n",
      "Requirement already satisfied: torch in c:\\users\\visut\\appdata\\local\\programs\\python\\python312\\lib\\site-packages (2.4.1)\n",
      "Requirement already satisfied: transformers in c:\\users\\visut\\appdata\\local\\programs\\python\\python312\\lib\\site-packages (4.45.1)\n",
      "Requirement already satisfied: rouge-score in c:\\users\\visut\\appdata\\local\\programs\\python\\python312\\lib\\site-packages (0.1.2)\n",
      "Requirement already satisfied: click in c:\\users\\visut\\appdata\\local\\programs\\python\\python312\\lib\\site-packages (from nltk) (8.1.7)\n",
      "Requirement already satisfied: joblib in c:\\users\\visut\\appdata\\local\\programs\\python\\python312\\lib\\site-packages (from nltk) (1.4.2)\n",
      "Requirement already satisfied: regex>=2021.8.3 in c:\\users\\visut\\appdata\\local\\programs\\python\\python312\\lib\\site-packages (from nltk) (2024.5.15)\n",
      "Requirement already satisfied: tqdm in c:\\users\\visut\\appdata\\local\\programs\\python\\python312\\lib\\site-packages (from nltk) (4.66.4)\n",
      "Requirement already satisfied: spacy-legacy<3.1.0,>=3.0.11 in c:\\users\\visut\\appdata\\local\\programs\\python\\python312\\lib\\site-packages (from spacy) (3.0.12)\n",
      "Requirement already satisfied: spacy-loggers<2.0.0,>=1.0.0 in c:\\users\\visut\\appdata\\local\\programs\\python\\python312\\lib\\site-packages (from spacy) (1.0.5)\n",
      "Requirement already satisfied: murmurhash<1.1.0,>=0.28.0 in c:\\users\\visut\\appdata\\local\\programs\\python\\python312\\lib\\site-packages (from spacy) (1.0.10)\n",
      "Requirement already satisfied: cymem<2.1.0,>=2.0.2 in c:\\users\\visut\\appdata\\local\\programs\\python\\python312\\lib\\site-packages (from spacy) (2.0.8)\n",
      "Requirement already satisfied: preshed<3.1.0,>=3.0.2 in c:\\users\\visut\\appdata\\local\\programs\\python\\python312\\lib\\site-packages (from spacy) (3.0.9)\n",
      "Requirement already satisfied: thinc<8.3.0,>=8.2.2 in c:\\users\\visut\\appdata\\local\\programs\\python\\python312\\lib\\site-packages (from spacy) (8.2.5)\n",
      "Requirement already satisfied: wasabi<1.2.0,>=0.9.1 in c:\\users\\visut\\appdata\\local\\programs\\python\\python312\\lib\\site-packages (from spacy) (1.1.3)\n",
      "Requirement already satisfied: srsly<3.0.0,>=2.4.3 in c:\\users\\visut\\appdata\\local\\programs\\python\\python312\\lib\\site-packages (from spacy) (2.4.8)\n",
      "Requirement already satisfied: catalogue<2.1.0,>=2.0.6 in c:\\users\\visut\\appdata\\local\\programs\\python\\python312\\lib\\site-packages (from spacy) (2.0.10)\n",
      "Requirement already satisfied: weasel<0.5.0,>=0.1.0 in c:\\users\\visut\\appdata\\local\\programs\\python\\python312\\lib\\site-packages (from spacy) (0.4.1)\n",
      "Requirement already satisfied: typer<1.0.0,>=0.3.0 in c:\\users\\visut\\appdata\\local\\programs\\python\\python312\\lib\\site-packages (from spacy) (0.12.3)\n",
      "Requirement already satisfied: requests<3.0.0,>=2.13.0 in c:\\users\\visut\\appdata\\local\\programs\\python\\python312\\lib\\site-packages (from spacy) (2.31.0)\n",
      "Requirement already satisfied: pydantic!=1.8,!=1.8.1,<3.0.0,>=1.7.4 in c:\\users\\visut\\appdata\\local\\programs\\python\\python312\\lib\\site-packages (from spacy) (2.8.2)\n",
      "Requirement already satisfied: jinja2 in c:\\users\\visut\\appdata\\local\\programs\\python\\python312\\lib\\site-packages (from spacy) (3.1.2)\n",
      "Requirement already satisfied: setuptools in c:\\users\\visut\\appdata\\local\\programs\\python\\python312\\lib\\site-packages (from spacy) (68.2.2)\n",
      "Requirement already satisfied: packaging>=20.0 in c:\\users\\visut\\appdata\\local\\programs\\python\\python312\\lib\\site-packages (from spacy) (23.2)\n",
      "Requirement already satisfied: langcodes<4.0.0,>=3.2.0 in c:\\users\\visut\\appdata\\local\\programs\\python\\python312\\lib\\site-packages (from spacy) (3.4.0)\n",
      "Requirement already satisfied: numpy>=1.19.0 in c:\\users\\visut\\appdata\\local\\programs\\python\\python312\\lib\\site-packages (from spacy) (1.26.2)\n",
      "Requirement already satisfied: scipy<1.14.0,>=1.7.0 in c:\\users\\visut\\appdata\\local\\programs\\python\\python312\\lib\\site-packages (from gensim) (1.13.1)\n",
      "Requirement already satisfied: smart-open>=1.8.1 in c:\\users\\visut\\appdata\\local\\programs\\python\\python312\\lib\\site-packages (from gensim) (7.0.4)\n",
      "Requirement already satisfied: threadpoolctl>=3.1.0 in c:\\users\\visut\\appdata\\local\\programs\\python\\python312\\lib\\site-packages (from scikit-learn) (3.5.0)\n",
      "Requirement already satisfied: filelock in c:\\users\\visut\\appdata\\local\\programs\\python\\python312\\lib\\site-packages (from torch) (3.16.1)\n",
      "Requirement already satisfied: typing-extensions>=4.8.0 in c:\\users\\visut\\appdata\\local\\programs\\python\\python312\\lib\\site-packages (from torch) (4.12.2)\n",
      "Requirement already satisfied: sympy in c:\\users\\visut\\appdata\\local\\programs\\python\\python312\\lib\\site-packages (from torch) (1.13.3)\n",
      "Requirement already satisfied: networkx in c:\\users\\visut\\appdata\\local\\programs\\python\\python312\\lib\\site-packages (from torch) (3.3)\n",
      "Requirement already satisfied: fsspec in c:\\users\\visut\\appdata\\local\\programs\\python\\python312\\lib\\site-packages (from torch) (2024.9.0)\n",
      "Requirement already satisfied: huggingface-hub<1.0,>=0.23.2 in c:\\users\\visut\\appdata\\local\\programs\\python\\python312\\lib\\site-packages (from transformers) (0.25.1)\n",
      "Requirement already satisfied: pyyaml>=5.1 in c:\\users\\visut\\appdata\\local\\programs\\python\\python312\\lib\\site-packages (from transformers) (6.0.1)\n",
      "Requirement already satisfied: safetensors>=0.4.1 in c:\\users\\visut\\appdata\\local\\programs\\python\\python312\\lib\\site-packages (from transformers) (0.4.5)\n",
      "Requirement already satisfied: tokenizers<0.21,>=0.20 in c:\\users\\visut\\appdata\\local\\programs\\python\\python312\\lib\\site-packages (from transformers) (0.20.0)\n",
      "Requirement already satisfied: absl-py in c:\\users\\visut\\appdata\\local\\programs\\python\\python312\\lib\\site-packages (from rouge-score) (2.1.0)\n",
      "Requirement already satisfied: six>=1.14.0 in c:\\users\\visut\\appdata\\local\\programs\\python\\python312\\lib\\site-packages (from rouge-score) (1.16.0)\n",
      "Requirement already satisfied: language-data>=1.2 in c:\\users\\visut\\appdata\\local\\programs\\python\\python312\\lib\\site-packages (from langcodes<4.0.0,>=3.2.0->spacy) (1.2.0)\n",
      "Requirement already satisfied: annotated-types>=0.4.0 in c:\\users\\visut\\appdata\\local\\programs\\python\\python312\\lib\\site-packages (from pydantic!=1.8,!=1.8.1,<3.0.0,>=1.7.4->spacy) (0.7.0)\n",
      "Requirement already satisfied: pydantic-core==2.20.1 in c:\\users\\visut\\appdata\\local\\programs\\python\\python312\\lib\\site-packages (from pydantic!=1.8,!=1.8.1,<3.0.0,>=1.7.4->spacy) (2.20.1)\n",
      "Requirement already satisfied: charset-normalizer<4,>=2 in c:\\users\\visut\\appdata\\local\\programs\\python\\python312\\lib\\site-packages (from requests<3.0.0,>=2.13.0->spacy) (3.3.2)\n",
      "Requirement already satisfied: idna<4,>=2.5 in c:\\users\\visut\\appdata\\local\\programs\\python\\python312\\lib\\site-packages (from requests<3.0.0,>=2.13.0->spacy) (3.4)\n",
      "Requirement already satisfied: urllib3<3,>=1.21.1 in c:\\users\\visut\\appdata\\local\\programs\\python\\python312\\lib\\site-packages (from requests<3.0.0,>=2.13.0->spacy) (2.1.0)\n",
      "Requirement already satisfied: certifi>=2017.4.17 in c:\\users\\visut\\appdata\\local\\programs\\python\\python312\\lib\\site-packages (from requests<3.0.0,>=2.13.0->spacy) (2023.7.22)\n",
      "Requirement already satisfied: wrapt in c:\\users\\visut\\appdata\\local\\programs\\python\\python312\\lib\\site-packages (from smart-open>=1.8.1->gensim) (1.16.0)\n",
      "Requirement already satisfied: blis<0.8.0,>=0.7.8 in c:\\users\\visut\\appdata\\local\\programs\\python\\python312\\lib\\site-packages (from thinc<8.3.0,>=8.2.2->spacy) (0.7.11)\n",
      "Requirement already satisfied: confection<1.0.0,>=0.0.1 in c:\\users\\visut\\appdata\\local\\programs\\python\\python312\\lib\\site-packages (from thinc<8.3.0,>=8.2.2->spacy) (0.1.5)\n",
      "Requirement already satisfied: colorama in c:\\users\\visut\\appdata\\local\\programs\\python\\python312\\lib\\site-packages (from tqdm->nltk) (0.4.6)\n",
      "Requirement already satisfied: shellingham>=1.3.0 in c:\\users\\visut\\appdata\\local\\programs\\python\\python312\\lib\\site-packages (from typer<1.0.0,>=0.3.0->spacy) (1.5.4)\n",
      "Requirement already satisfied: rich>=10.11.0 in c:\\users\\visut\\appdata\\local\\programs\\python\\python312\\lib\\site-packages (from typer<1.0.0,>=0.3.0->spacy) (13.7.1)\n",
      "Requirement already satisfied: cloudpathlib<1.0.0,>=0.7.0 in c:\\users\\visut\\appdata\\local\\programs\\python\\python312\\lib\\site-packages (from weasel<0.5.0,>=0.1.0->spacy) (0.18.1)\n",
      "Requirement already satisfied: MarkupSafe>=2.0 in c:\\users\\visut\\appdata\\local\\programs\\python\\python312\\lib\\site-packages (from jinja2->spacy) (2.1.3)\n",
      "Requirement already satisfied: mpmath<1.4,>=1.1.0 in c:\\users\\visut\\appdata\\local\\programs\\python\\python312\\lib\\site-packages (from sympy->torch) (1.3.0)\n",
      "Requirement already satisfied: marisa-trie>=0.7.7 in c:\\users\\visut\\appdata\\local\\programs\\python\\python312\\lib\\site-packages (from language-data>=1.2->langcodes<4.0.0,>=3.2.0->spacy) (1.2.0)\n",
      "Requirement already satisfied: markdown-it-py>=2.2.0 in c:\\users\\visut\\appdata\\local\\programs\\python\\python312\\lib\\site-packages (from rich>=10.11.0->typer<1.0.0,>=0.3.0->spacy) (3.0.0)\n",
      "Requirement already satisfied: pygments<3.0.0,>=2.13.0 in c:\\users\\visut\\appdata\\local\\programs\\python\\python312\\lib\\site-packages (from rich>=10.11.0->typer<1.0.0,>=0.3.0->spacy) (2.16.1)\n",
      "Requirement already satisfied: mdurl~=0.1 in c:\\users\\visut\\appdata\\local\\programs\\python\\python312\\lib\\site-packages (from markdown-it-py>=2.2.0->rich>=10.11.0->typer<1.0.0,>=0.3.0->spacy) (0.1.2)\n"
     ]
    },
    {
     "name": "stderr",
     "output_type": "stream",
     "text": [
      "\n",
      "[notice] A new release of pip is available: 23.3.1 -> 24.2\n",
      "[notice] To update, run: python.exe -m pip install --upgrade pip\n",
      "\n",
      "[notice] A new release of pip is available: 23.3.1 -> 24.2\n",
      "[notice] To update, run: python.exe -m pip install --upgrade pip\n"
     ]
    },
    {
     "name": "stdout",
     "output_type": "stream",
     "text": [
      "Requirement already satisfied: python-docx in c:\\users\\visut\\appdata\\local\\programs\\python\\python312\\lib\\site-packages (1.1.2)\n",
      "Requirement already satisfied: PyPDF2 in c:\\users\\visut\\appdata\\local\\programs\\python\\python312\\lib\\site-packages (3.0.1)\n",
      "Requirement already satisfied: lxml>=3.1.0 in c:\\users\\visut\\appdata\\local\\programs\\python\\python312\\lib\\site-packages (from python-docx) (5.3.0)\n",
      "Requirement already satisfied: typing-extensions>=4.9.0 in c:\\users\\visut\\appdata\\local\\programs\\python\\python312\\lib\\site-packages (from python-docx) (4.12.2)\n"
     ]
    }
   ],
   "source": [
    "!pip install nltk spacy gensim scikit-learn torch transformers rouge-score\n",
    "!pip install python-docx PyPDF2"
   ]
  },
  {
   "cell_type": "markdown",
   "id": "fb4ca148-1896-4aba-bb97-b86da4d96735",
   "metadata": {},
   "source": [
    "## 2.Download Required NLP Models:"
   ]
  },
  {
   "cell_type": "code",
   "execution_count": 16,
   "id": "6a341ec1-f2f8-4bbe-b88a-1c8c3cabe5ef",
   "metadata": {},
   "outputs": [
    {
     "name": "stderr",
     "output_type": "stream",
     "text": [
      "[nltk_data] Downloading package punkt to\n",
      "[nltk_data]     C:\\Users\\visut\\AppData\\Roaming\\nltk_data...\n",
      "[nltk_data]   Package punkt is already up-to-date!\n"
     ]
    },
    {
     "data": {
      "text/plain": [
       "True"
      ]
     },
     "execution_count": 16,
     "metadata": {},
     "output_type": "execute_result"
    }
   ],
   "source": [
    "import nltk\n",
    "nltk.download('punkt')\n",
    "# import spacy\n",
    "# spacy.cli.download(\"en_core_web_sm\")"
   ]
  },
  {
   "cell_type": "markdown",
   "id": "34bf3b94-4555-4524-9f39-10e2100fe264",
   "metadata": {},
   "source": [
    "# Step 2: Data Collection"
   ]
  },
  {
   "cell_type": "markdown",
   "id": "cd03e487-6e8a-4b4b-849a-047110068fb7",
   "metadata": {},
   "source": [
    "## 1.Read Input Files:\n",
    "## Create functions to read text, DOCX, and PDF files."
   ]
  },
  {
   "cell_type": "code",
   "execution_count": 17,
   "id": "576ddea3-2249-4cf9-88e8-35e30ae64a9a",
   "metadata": {},
   "outputs": [
    {
     "name": "stdout",
     "output_type": "stream",
     "text": [
      "Genome and Symptoms based Disease Prediction\n",
      "Mrunal Kurhade\n",
      "Computer Engg. Dept, S.P .I.T\n",
      "Mumbai, India\n",
      "mrunal.kurhade@spit.ac.inMeghan Lendhe\n",
      "Computer Engg. Dept, S.P .I.T\n",
      "Mumbai, India\n",
      "meghan.lendhe@spit.ac.inShreya Patel\n",
      "Computer Engg. Dept, S.P .I.T\n",
      "Mumbai, India\n",
      "shreya.patel@spit.ac.in\n",
      "I. L ITERATURE SURVEY\n",
      "Translation of genomic knowledge for use in medical prac-\n",
      "tice is a highly anticipated goal. Disease causing genomes can\n",
      "be identiﬁed by various methods. Few methods are discussed\n",
      "in thi\n"
     ]
    }
   ],
   "source": [
    "import os\n",
    "from docx import Document\n",
    "from PyPDF2 import PdfReader\n",
    "\n",
    "def read_text_file(file_path):\n",
    "    with open(file_path, 'r', encoding='utf-8') as file:\n",
    "        return file.read()\n",
    "\n",
    "def read_docx_file(file_path):\n",
    "    doc = Document(file_path)\n",
    "    return \"\\n\".join([para.text for para in doc.paragraphs])\n",
    "\n",
    "def read_pdf_file(file_path):\n",
    "    reader = PdfReader(file_path)\n",
    "    text = \"\"\n",
    "    for page in reader.pages:\n",
    "        text += page.extract_text()\n",
    "    return text\n",
    "\n",
    "def read_file(file_path):\n",
    "    _, file_extension = os.path.splitext(file_path)\n",
    "    if file_extension == '.txt':\n",
    "        return read_text_file(file_path)\n",
    "    elif file_extension == '.docx':\n",
    "        return read_docx_file(file_path)\n",
    "    elif file_extension == '.pdf':\n",
    "        return read_pdf_file(file_path)\n",
    "    else:\n",
    "        raise ValueError(\"Unsupported file format\")\n",
    "\n",
    "# Since the notebook and PDF are in the same folder, use just the file name\n",
    "# file_path = \"JP summer repot.pdf\"\n",
    "file_path = \"D3.pdf\"\n",
    "\n",
    "text = read_file(file_path)\n",
    "print(text[:500])  # Print the first 500 characters to verify the content\n"
   ]
  },
  {
   "cell_type": "markdown",
   "id": "babd5e54-e0d7-48f5-aad1-030c17ca35fd",
   "metadata": {},
   "source": [
    "# Step 3: Preprocessing"
   ]
  },
  {
   "cell_type": "markdown",
   "id": "3a62c8e9-41b2-4f24-8298-09fb4430f09c",
   "metadata": {},
   "source": [
    "## Clean the Text:\n",
    "Remove `special characters`, `stop words`, and irrelevant information.\n",
    "Tokenize sentences using `nltk` or `spaCy`."
   ]
  },
  {
   "cell_type": "code",
   "execution_count": 18,
   "id": "897992fa-b180-4b7f-816d-cda764fa635c",
   "metadata": {},
   "outputs": [
    {
     "name": "stdout",
     "output_type": "stream",
     "text": [
      "['Genome and Symptoms based Disease Prediction\\nMrunal Kurhade\\nComputer Engg.', 'Dept, S.P .I.T\\nMumbai, India\\nmrunal.kurhade@spit.ac.inMeghan Lendhe\\nComputer Engg.', 'Dept, S.P .I.T\\nMumbai, India\\nmeghan.lendhe@spit.ac.inShreya Patel\\nComputer Engg.', 'Dept, S.P .I.T\\nMumbai, India\\nshreya.patel@spit.ac.in\\nI. L ITERATURE SURVEY\\nTranslation of genomic knowledge for use in medical prac-\\ntice is a highly anticipated goal.', 'Disease causing genomes can\\nbe identiﬁed by various methods.', 'Few methods are discussed\\nin this paper.', 'Thus, genetic-based predictive models can have\\nprofound impact in diagnosis and detection.', 'However, given\\nthat (i) symptoms/disease are affected by genetic and environ-\\nmental factors, (ii) the genetic view of susceptibility to dis-\\neases is not well-understood, and (iii) replicable susceptibility\\nalleles, in combination, account for only a moderate amount\\nof disease heritability, prediction of disease using genomes is\\ndifﬁcult [8].', 'Considerable progress has been observed with\\nextensive research(in progress) that identify disease causing\\ngenotypes.', 'Some approaches of disease prediction have been\\npublished.', 'We have summarized the present state of disease\\nprediction, procedures followed for genome and symptoms\\nbased prediction.', 'Disease prediction on the basis of symptoms\\nand genes has now become a critical task.', 'The traditional\\nmethods of clinical analysis of the diseases were time consum-\\ning and tedious.', 'Thus machine learning can be used to analyze\\nthe data and diagnose the disorders accurately.', 'Machine learn-\\ning employs supervised and unsupervised learning techniques\\nand mainly focuses on automatic learning from datasets [2].', 'Most of the disease prediction models use data mining and ma-\\nchine learning techniques [1].', 'Fuzzy Hierarchical Approach,\\nArtiﬁcial Neural Networks (ANNs), Genetic algorithms (GAs),\\nalong with hybrid methods including a combination of some\\nof these methods are used.', 'Deoxyribonucleic acid (DNA) and ribonucleic acid(RNA) are\\nnucleic acids which form an essential macromolecule.', 'The\\nDNA has a double helix structure and carries all the ge-\\nnetic information.', 'Each nucleotide is composed of nitrogen-\\ncontaining nucleobase cytosine [C], guanine [G], adenine [A]\\nand thymine [T].', 'Bioinformatics helps in extracting, analysing\\nand classifying information from the gene sequence.', 'ANN,\\ndespite being widely used for machine learning in bioinfor-\\nmatics, is only suitable for hierarchy structure not for ﬂat [2].', 'Thus techniques like Support Vector Machine (SVM), Artiﬁ-\\ncial Neural Network (ANN), Artiﬁcial NeuroFuzzy inference\\nSystem (ANFIS), Na ¨ıve Bayes, etc have their own pros and\\ncons.', 'Thus correct combination of techniques must be chosen.', 'A k-mer is a nucleotide sequence of a certain length(k).', 'It typically refers to all the possible substrings of length k\\nthat are contained in a string [3].', 'k-mer can indicate lowquality or contamination in sequences.', 'Thus Pathway analysis\\nis preferred to extract and explain the k-mer sequence based\\nDNA sequence analysis [4].', 'The interacting co-conspirators resulting in common dis-\\neases are environmental and heritable components.', 'Environ-\\nmental components include chemical exposure, infection and\\ncaloric ﬂux and heritable components include DNA variants,\\nmethylation patterns, and epigenetic RNA effects.', 'The use\\nof disease predisposing alleles and its discovery presents a\\nchallenge to the human genetics community.', 'Parallel sequenc-\\ning, RNA expression and high-throughput genotyping are the\\nrecent technological advances that have accelerated interroga-\\ntion of genetic variation.', 'Providing detailed and mechanistic\\ninsight into the molecular pathogenesis of disease states are\\nsome important uses of such discoveries.', 'In determining robust\\nclinical care, accurate prediction of potential disease can play\\na critical role for many diseases with effective treatments that\\nmay avert severe disease.', 'It is essential to characterize the\\nimportant aspects that produce useful predictive models.', 'A large number of genes will unlikely have considerably\\nimportant predictive value over traditional risk factors if these\\nvariants predispose the risk factors.', 'Intermediate outcomes\\nlike hypertension or dyslipidemia or smoking involves genes\\nassociated with cardiovascular disease [5] [6].', 'Most diseases are triggered by a combination of genomes.', 'Gene to gene interaction affect the functionality of the genes.', 'The generic factors of a disease can be identiﬁed by ﬁnding\\nfrequent sequences in diseased samples.', 'Thus DNA can be\\nused for prediction of disease.', 'Disease can be predicted by\\nidentifying the disease causing genes present in DNA.', 'Path-\\nways are visualized for all the disease causing genes and the\\npossibility(expressed in probability) of a disease is predicted.', 'The probability is obtained by discarding redundant data and\\nconsidering only those genes that have a strong effect [4].', 'Interpretation and use of genomic knowledge in the health-\\ncare is very challenging.', 'At the moment, prediction of com-\\nmon diseases using genomes and symptoms is still not in-\\nformative.', 'Such prediction has been observed to vary a lot\\ndue to numerous factors (diet, age, BMI, etc.).', 'Prediction of\\nsusceptibility to a disease is most difﬁcult in individuals at\\nearly stages of the disease, but this category is highly important\\nand prediction in this category is very meaningful.', 'Strong\\neffects can be seen from the interaction of a gene with other\\ngenetic variants ( studied using pathways [4] ).', 'From a health-\\ncare perspective, the current knowledge base is inadequate toimplement useful genome-based applications [7].', 'After studying some prediction methods we conclude that\\nprediction using genomes and symptoms is weak and inaccu-\\nrate even today.', 'Current knowledge is insufﬁcient to develop\\naccurate disease prediction applications.', 'But considering the\\npace at which research is going on, machine learning algo-\\nrithms are being developed, analysis of genomes using big\\ndata,etc.', 'the accuracy of present methods is bound to improve\\nby a healthy margin.', 'II.', 'G ENOMIC PREDICTOR FOR DISEASES\\nDisease prediction based symptoms and genome analysis\\nis one of the most interesting and challenging task.', 'The lack\\nof experts and wrongly analyzed cases has required the need\\nto build up a quick and effective detection system.', 'The main\\nobjective is to distinguish the key patterns or gene patterns\\nfrom the medical data using the classiﬁer model to precisely\\npredict the disease.', '1.', 'Identifying Causal Genes and Diseases\\nWhen a clinician makes his or her diagnosis, they rely\\non a variety of information to support their decision: patient\\nbehaviors and symptoms, lab values, radiological tests, etc.', 'The results ultimately get codiﬁed into formal classiﬁcation\\nsystems, such as ICD-10.', 'There may be follow-up tests, second\\nand third opinions before a disease is ﬁnally conﬁrmed.', 'Rarely\\nis there a single determining factor.', 'The misalignment that\\ncommonly occurs between what the user wants to know and\\nwhat available data and methods can actually tell us about the\\nproblem.', 'The impact of genetic-based predictive models on clinical\\ndecisions and therapy choice could be profound.', 'However,\\ngiven that (i) medical traits result from a complex interplay\\nbetween genetic and environmental factors, (ii) the underlying\\ngenetic architectures for susceptibility to common diseases are\\nnot well-understood, and (iii) replicable susceptibility alleles,\\nin combination, account for only a moderate amount of disease\\nheritability, there are substantial challenges to constructing and\\nimplementing genetic risk prediction models with high utility.', 'In spite of these challenges, concerted progress has continued\\nin this area with an ongoing accumulation of studies that\\nidentify disease predisposing genotypes.', 'Multiple lines of evidence strongly support the notion that\\nthe large majority of common, chronic diseases have complex\\ncauses.', 'Machine can predict diseases but cannot predict the sub\\ntypes of the diseases caused by occurrence of one disease.', 'It\\nfails to predict all possible conditions of the people.', 'Existing\\nsystem handles only structured data.', 'The prediction system are\\nbroad and ambiguous.', 'First, the prevailing systems are dearer only rich people\\ncould pay for to such calculation systems.', 'And also, when\\nit comes to folks, it becomes even higher.', 'Second, the guess\\nsystems are non-speciﬁc and indeﬁnite so far.', 'So that, a\\nmachine can envisage a positive disease but cannot expect the\\nsubtypes of the diseases and diseases caused by the existence\\nof one bug.', 'Multiple predisposition variants may not yield perfect\\nprediction of complex diseases alone.', 'Thus question\\nremains whether it will enhance the expectation of disease\\npast conventional risk factors.', 'Despite the fact that the\\ndevelopment of proﬁles comprising of hereditary and\\necological hazard factors shows up an obvious solution,\\nstudies so far demonstrated that hereditary components don’t\\nsigniﬁcantly enhance the expectation of type 2 diabetes and\\nprostate cancer, yet again the number of genes examined was\\nlittle.', '2.', 'Data Mining For Disease Prediction\\nData Mining is a standout amongst the most imperative\\nand motivating region of research with the goal of ﬁnding\\nimportant data from huge data sets.', 'The result of data mining\\ninnovations are to give beneﬁts to healthcare association\\nfor gathering the patients having similar type of diseases or\\nmedical problems with the goal that healthcare association\\ngives them effective treatments .', 'Such techniques are alsoused to analyze the different factors that are responsible for\\ndiseases.', 'We are using the Classiﬁcation approach to solve\\nour problem.', 'It is a supervised learning approach.', 'It divides\\ndata samples into target classes and predicts them for each\\ndata point.', 'This concept is based on statistical learning theory.', 'The\\nSVM creates a hyper plane or multiple hyper planes in high\\ndimensional space useful for classiﬁcation.', 'To maximise\\nthe separation between data points, SVM creates a hyper\\nplane in original input space.', 'To make this separation\\neasier, original ﬁnite dimensional space is mapped into\\nnew higher dimensional space.', 'For non-linear mapping of\\ntraining samples, kernel functions are used.', 'Thus the SVM\\nworks on the principle that data points are characterized\\nusing hyper plane which is constructed with help of support\\nvectors.', 'SVM is one of the approaches that are used by\\nresearcher in healthcare ﬁeld for classiﬁcation.', 'Fei proposed\\nParticle Swarm Optimization SVM (PSO-SVM) approach for\\nanalyzing arrhythmia cordis .', '3.', 'Calculating Conﬁdence Factors\\nOur application will be at affordable cost.', 'Calculating\\ndiseases as well as calculating other thinkable sub diseases.', 'Broadly open by all at cheap cost.', 'Data mining used (both\\nsupervised and unsupervised learning).', 'For instance, a model\\nmay estimate the probability of an abnormal lab value.', 'These\\nmethod(s) will give probability of contracting a disease based\\non the genetic proﬁle and symptoms.', 'If they turn out to\\nbe accurate enough, they can be used for efﬁcient and cost\\neffective disease prediction.', 'Genetic variations may enhance\\ndisease prediction past conventional risk factors when they\\nare engaged with obscure pathways or in pathways with\\nunmeasurable transitional factors.', 'New yet obscure pathways\\nmight be more probable for a few diseases than for others.', 'III.', 'F UTURE WORK\\nWe have planned to develop a system that is integrated with\\na large database and will give the disease subtypes and the\\nconﬁdence factor as its output.', 'This model has heavy usage\\nof the machine learning algorithms.', 'The model will be having\\na high processing power as it will have to handle a large\\ndataset efﬁciently.', 'Thus, the processor must be fast and the\\ncomputational time should be minimum.We will retrieve the\\ndata from database, normalize it and apply the algorithm on\\nit.', 'This approach consists six modules of data extraction, prepro-\\ncessing , classiﬁcation of genes, generating disease models,\\napplication of rules and ﬁnally prediction of diseases.', 'The\\nexisting genome data is collected considering other attributes\\nsuch as age, sex, etc .', 'This collected data is given to the\\nsystem.', 'The system gives set of diseases associated with genes.', 'Further result is given for calculating the conﬁdence factor.', 'It will display the set of diseases and conﬁdence factor to the\\nuser; the results will be highlighted if the conﬁdence factor isgreater than a threshold value.', 'Given this model, it will serve\\nas a great help to predict the diseases on the basis of genes\\nand symptoms.', 'REFERENCES\\n[1] Dhaval Raval, Dvijesh Bhatt, Malaram K Kumhar, Vishal Parikh, Daiwat\\nVyas, “Medical Diagnosis System Using Machine Learning,” V olume 7\\n• Number 1 Sept 2015 - March 2016 pp.177-182.', '[2] Pooja Dixit, Ghanshyam I. Prajapati, Machine Learning in Bioinformat-\\nics: A Novel Approach for DNA Sequencing, 2015 Fifth International\\nConference on Advanced Computing & Communication Technologies.', 'pp: 41-47\\n[3] Mayank Pahadia, Akash Srivastava, Divyang Srivastava, Dr. Nagamma\\nPatil, “Genome Data Analysis using MapReduce Paradigm,” 2015\\nSecond International Conference on Advances in Computing and Com-\\nmunication Engineering.', 'pp: 556-559\\n[4] Syeeda Farah and Sushma M S, Dr.Asha T, Cauvery B and Shivanand K\\n“ DNA Based Disease Prediction using pathway Analysis,” 2017 IEEE\\n7th International Advance Computing Conference pp: 629-634\\n[5] Kathiresan, S., Melander, O., Anevski, D., Guiducci, C., Burtt, N.P.,\\nRoos, C., Hirschhorn, J.N., Berglund, G., Hedblad, B., Groop, L, et\\nal., “ (2008) Polymorphisms associated with cholesterol and risk of\\ncardiovascular events,”N.', 'Engl.', 'J.', 'Med., pp.358, 1240–1249\\n[6] Thorgeirsson, T.E., Geller, F., Sulem, P., Rafnar, T., Wiste, A., Mag-\\nnusson, K.P., Manolescu, A., Thorleifsson, G., Stefansson, H., Ingason,\\nA. et al., “(2008) A variant associated with nicotine dependence, lung\\ncancer and peripheral arterial disease,”Nature, pp.452, 638–642.', '[7] A Cecile JW Janssens and Cornelia M van Duijn,“ Genome-based\\nprediction of common diseases: methodological considerations for future\\nresearch,” Published: 18 February 2009 Genome Medicine 2009, 1:N\\n(doi:10.1186/gm20).', 'pp: r166-r173\\n[8] Steven J. Schrodi, Shubhabrata Mukherjee, Ying Shan, Gerard Tromp,\\nJohn J. Sninsky, Amy P. Callear, Tonia C. Carter, Zhan Ye, Jonathan L.\\nHaines, Murray H. Brilliant , Paul K. Crane, Diane T. Smelser, Robert C.\\nElston and Daniel E. Weeks,“ Genetic-based prediction of disease traits:\\nprediction is very difﬁcult, especially about the future,” published: 02\\nJune 2014 doi: 10.3389/fgene.2014.00162.', 'pp:5-162\\n[9] Holtzman, N.A.', 'and Marteau, T.M.,“Will genetics revolutionize\\nmedicine?,” (2000) N. Engl.', 'J.', 'Med., pp.343, 141–144.', '[10] Vineis, P., Schulte, P. and McMichael, A.J.,“ Misconceptions about the\\nuse of genetic tests in populations.,” Genome Research, vol.', '20, no.', '9,\\npp.', '1297–1303, 2010.', '[11] A. McKenna,“ The genome analysis toolkit: A mapreduce framework for\\nanalyzing next-generation dna sequencing data,” (2001) Lancet, pp.357,\\n709–712.', '[12] Wray, N.R., Goddard, M.E.', 'and Visscher, P.M.,“ Prediction of individual\\ngenetic risk to disease from genome-wide association studies,”(2007)\\nGenome Res., pp.17, 1520–1528.', '[13] Sebastian Okser, TapioPahikkala and TeroAittokallio,“ Genetic variants\\nand their interactions in disease risk prediction – machine learning and\\nnetwork perspectives,”BioData Mining, 6:5, 2013. pp: 1-16\\n[14] Li Ding, Michael C. Wendl, Daniel C. Koboldt and Elaine R.\\nMardis,“Analysis of next-generation genomic data in cancer: accom-\\nplishments and challenges,”Human Molecular Genetics, R1–R9, 2010.\\npp: 188-196\\n[15] Brand A, Brand H, Schulte in den B ¨aumen,“ The impact of genetics\\nand genomics on public health,” Eur J Hum Genet 2008, 16. pp: 5-13\\n[16] Haga SB, Khoury MJ, Burke W,“Genomic proﬁling to promote a healthy\\nlifestyle: not ready for prime time,” Nat Genet 2003, 34:pp.347-350.', '[17] Gunay, Adem Karadag,“Predicting Functional Regions in Genomic\\nDNA Sequences Using Artiﬁcial Neural Network,”International Journal\\nof Engineering Inventions V olume 3, Issue 6 (January 2014).', 'pp: 2278-\\n7461\\n[18] “Application of Data mining in Bioinformatics,”Indian journal of com-\\nputer of science and engineering V olume 1 No.2 pp.114-118.', '[19] MdSaiful Islam , Md MahmudulHasan, Xiaoyi Wang , Hayley D. Ger-\\nmack and MdNoor-E-Alam,“ Review ASystematic Review on Health-\\ncare Analytics: Application and Theoretical Perspective of Data Min-\\ning,”Human Molecular Genetics, R1–R9, 2010.', '[20] Mohammad Ahmad Alkhatib,Amir Talaei-Khoei,“Analysis of Research\\nin Healthcare Data Analytics et al,” Australasian Conference on Infor-\\nmation Systems Al Khatib et al 2015, Sydney.', '[21] Lander, E.S.', '; Linton, L.M.', '; Birren, B.; Nusbaum, C.; Zody, M.C.', ';\\nBaldwin, J.; Devon, K.; Dewar, K.; Doyle, M.; FitzHugh,“ Initial\\nsequencing and analysis of the human genome,”Nature 2001, pp.409,\\n860–921.']\n",
      "[['Genome', 'and', 'Symptoms', 'based', 'Disease', 'Prediction', 'Mrunal', 'Kurhade', 'Computer', 'Engg', '.'], ['Dept', ',', 'S.P', '.I.T', 'Mumbai', ',', 'India', 'mrunal.kurhade', '@', 'spit.ac.inMeghan', 'Lendhe', 'Computer', 'Engg', '.'], ['Dept', ',', 'S.P', '.I.T', 'Mumbai', ',', 'India', 'meghan.lendhe', '@', 'spit.ac.inShreya', 'Patel', 'Computer', 'Engg', '.'], ['Dept', ',', 'S.P', '.I.T', 'Mumbai', ',', 'India', 'shreya.patel', '@', 'spit.ac.in', 'I.', 'L', 'ITERATURE', 'SURVEY', 'Translation', 'of', 'genomic', 'knowledge', 'for', 'use', 'in', 'medical', 'prac-', 'tice', 'is', 'a', 'highly', 'anticipated', 'goal', '.'], ['Disease', 'causing', 'genomes', 'can', 'be', 'identiﬁed', 'by', 'various', 'methods', '.'], ['Few', 'methods', 'are', 'discussed', 'in', 'this', 'paper', '.'], ['Thus', ',', 'genetic-based', 'predictive', 'models', 'can', 'have', 'profound', 'impact', 'in', 'diagnosis', 'and', 'detection', '.'], ['However', ',', 'given', 'that', '(', 'i', ')', 'symptoms/disease', 'are', 'affected', 'by', 'genetic', 'and', 'environ-', 'mental', 'factors', ',', '(', 'ii', ')', 'the', 'genetic', 'view', 'of', 'susceptibility', 'to', 'dis-', 'eases', 'is', 'not', 'well-understood', ',', 'and', '(', 'iii', ')', 'replicable', 'susceptibility', 'alleles', ',', 'in', 'combination', ',', 'account', 'for', 'only', 'a', 'moderate', 'amount', 'of', 'disease', 'heritability', ',', 'prediction', 'of', 'disease', 'using', 'genomes', 'is', 'difﬁcult', '[', '8', ']', '.'], ['Considerable', 'progress', 'has', 'been', 'observed', 'with', 'extensive', 'research', '(', 'in', 'progress', ')', 'that', 'identify', 'disease', 'causing', 'genotypes', '.'], ['Some', 'approaches', 'of', 'disease', 'prediction', 'have', 'been', 'published', '.'], ['We', 'have', 'summarized', 'the', 'present', 'state', 'of', 'disease', 'prediction', ',', 'procedures', 'followed', 'for', 'genome', 'and', 'symptoms', 'based', 'prediction', '.'], ['Disease', 'prediction', 'on', 'the', 'basis', 'of', 'symptoms', 'and', 'genes', 'has', 'now', 'become', 'a', 'critical', 'task', '.'], ['The', 'traditional', 'methods', 'of', 'clinical', 'analysis', 'of', 'the', 'diseases', 'were', 'time', 'consum-', 'ing', 'and', 'tedious', '.'], ['Thus', 'machine', 'learning', 'can', 'be', 'used', 'to', 'analyze', 'the', 'data', 'and', 'diagnose', 'the', 'disorders', 'accurately', '.'], ['Machine', 'learn-', 'ing', 'employs', 'supervised', 'and', 'unsupervised', 'learning', 'techniques', 'and', 'mainly', 'focuses', 'on', 'automatic', 'learning', 'from', 'datasets', '[', '2', ']', '.'], ['Most', 'of', 'the', 'disease', 'prediction', 'models', 'use', 'data', 'mining', 'and', 'ma-', 'chine', 'learning', 'techniques', '[', '1', ']', '.'], ['Fuzzy', 'Hierarchical', 'Approach', ',', 'Artiﬁcial', 'Neural', 'Networks', '(', 'ANNs', ')', ',', 'Genetic', 'algorithms', '(', 'GAs', ')', ',', 'along', 'with', 'hybrid', 'methods', 'including', 'a', 'combination', 'of', 'some', 'of', 'these', 'methods', 'are', 'used', '.'], ['Deoxyribonucleic', 'acid', '(', 'DNA', ')', 'and', 'ribonucleic', 'acid', '(', 'RNA', ')', 'are', 'nucleic', 'acids', 'which', 'form', 'an', 'essential', 'macromolecule', '.'], ['The', 'DNA', 'has', 'a', 'double', 'helix', 'structure', 'and', 'carries', 'all', 'the', 'ge-', 'netic', 'information', '.'], ['Each', 'nucleotide', 'is', 'composed', 'of', 'nitrogen-', 'containing', 'nucleobase', 'cytosine', '[', 'C', ']', ',', 'guanine', '[', 'G', ']', ',', 'adenine', '[', 'A', ']', 'and', 'thymine', '[', 'T', ']', '.'], ['Bioinformatics', 'helps', 'in', 'extracting', ',', 'analysing', 'and', 'classifying', 'information', 'from', 'the', 'gene', 'sequence', '.'], ['ANN', ',', 'despite', 'being', 'widely', 'used', 'for', 'machine', 'learning', 'in', 'bioinfor-', 'matics', ',', 'is', 'only', 'suitable', 'for', 'hierarchy', 'structure', 'not', 'for', 'ﬂat', '[', '2', ']', '.'], ['Thus', 'techniques', 'like', 'Support', 'Vector', 'Machine', '(', 'SVM', ')', ',', 'Artiﬁ-', 'cial', 'Neural', 'Network', '(', 'ANN', ')', ',', 'Artiﬁcial', 'NeuroFuzzy', 'inference', 'System', '(', 'ANFIS', ')', ',', 'Na', '¨ıve', 'Bayes', ',', 'etc', 'have', 'their', 'own', 'pros', 'and', 'cons', '.'], ['Thus', 'correct', 'combination', 'of', 'techniques', 'must', 'be', 'chosen', '.'], ['A', 'k-mer', 'is', 'a', 'nucleotide', 'sequence', 'of', 'a', 'certain', 'length', '(', 'k', ')', '.'], ['It', 'typically', 'refers', 'to', 'all', 'the', 'possible', 'substrings', 'of', 'length', 'k', 'that', 'are', 'contained', 'in', 'a', 'string', '[', '3', ']', '.'], ['k-mer', 'can', 'indicate', 'lowquality', 'or', 'contamination', 'in', 'sequences', '.'], ['Thus', 'Pathway', 'analysis', 'is', 'preferred', 'to', 'extract', 'and', 'explain', 'the', 'k-mer', 'sequence', 'based', 'DNA', 'sequence', 'analysis', '[', '4', ']', '.'], ['The', 'interacting', 'co-conspirators', 'resulting', 'in', 'common', 'dis-', 'eases', 'are', 'environmental', 'and', 'heritable', 'components', '.'], ['Environ-', 'mental', 'components', 'include', 'chemical', 'exposure', ',', 'infection', 'and', 'caloric', 'ﬂux', 'and', 'heritable', 'components', 'include', 'DNA', 'variants', ',', 'methylation', 'patterns', ',', 'and', 'epigenetic', 'RNA', 'effects', '.'], ['The', 'use', 'of', 'disease', 'predisposing', 'alleles', 'and', 'its', 'discovery', 'presents', 'a', 'challenge', 'to', 'the', 'human', 'genetics', 'community', '.'], ['Parallel', 'sequenc-', 'ing', ',', 'RNA', 'expression', 'and', 'high-throughput', 'genotyping', 'are', 'the', 'recent', 'technological', 'advances', 'that', 'have', 'accelerated', 'interroga-', 'tion', 'of', 'genetic', 'variation', '.'], ['Providing', 'detailed', 'and', 'mechanistic', 'insight', 'into', 'the', 'molecular', 'pathogenesis', 'of', 'disease', 'states', 'are', 'some', 'important', 'uses', 'of', 'such', 'discoveries', '.'], ['In', 'determining', 'robust', 'clinical', 'care', ',', 'accurate', 'prediction', 'of', 'potential', 'disease', 'can', 'play', 'a', 'critical', 'role', 'for', 'many', 'diseases', 'with', 'effective', 'treatments', 'that', 'may', 'avert', 'severe', 'disease', '.'], ['It', 'is', 'essential', 'to', 'characterize', 'the', 'important', 'aspects', 'that', 'produce', 'useful', 'predictive', 'models', '.'], ['A', 'large', 'number', 'of', 'genes', 'will', 'unlikely', 'have', 'considerably', 'important', 'predictive', 'value', 'over', 'traditional', 'risk', 'factors', 'if', 'these', 'variants', 'predispose', 'the', 'risk', 'factors', '.'], ['Intermediate', 'outcomes', 'like', 'hypertension', 'or', 'dyslipidemia', 'or', 'smoking', 'involves', 'genes', 'associated', 'with', 'cardiovascular', 'disease', '[', '5', ']', '[', '6', ']', '.'], ['Most', 'diseases', 'are', 'triggered', 'by', 'a', 'combination', 'of', 'genomes', '.'], ['Gene', 'to', 'gene', 'interaction', 'affect', 'the', 'functionality', 'of', 'the', 'genes', '.'], ['The', 'generic', 'factors', 'of', 'a', 'disease', 'can', 'be', 'identiﬁed', 'by', 'ﬁnding', 'frequent', 'sequences', 'in', 'diseased', 'samples', '.'], ['Thus', 'DNA', 'can', 'be', 'used', 'for', 'prediction', 'of', 'disease', '.'], ['Disease', 'can', 'be', 'predicted', 'by', 'identifying', 'the', 'disease', 'causing', 'genes', 'present', 'in', 'DNA', '.'], ['Path-', 'ways', 'are', 'visualized', 'for', 'all', 'the', 'disease', 'causing', 'genes', 'and', 'the', 'possibility', '(', 'expressed', 'in', 'probability', ')', 'of', 'a', 'disease', 'is', 'predicted', '.'], ['The', 'probability', 'is', 'obtained', 'by', 'discarding', 'redundant', 'data', 'and', 'considering', 'only', 'those', 'genes', 'that', 'have', 'a', 'strong', 'effect', '[', '4', ']', '.'], ['Interpretation', 'and', 'use', 'of', 'genomic', 'knowledge', 'in', 'the', 'health-', 'care', 'is', 'very', 'challenging', '.'], ['At', 'the', 'moment', ',', 'prediction', 'of', 'com-', 'mon', 'diseases', 'using', 'genomes', 'and', 'symptoms', 'is', 'still', 'not', 'in-', 'formative', '.'], ['Such', 'prediction', 'has', 'been', 'observed', 'to', 'vary', 'a', 'lot', 'due', 'to', 'numerous', 'factors', '(', 'diet', ',', 'age', ',', 'BMI', ',', 'etc', '.', ')', '.'], ['Prediction', 'of', 'susceptibility', 'to', 'a', 'disease', 'is', 'most', 'difﬁcult', 'in', 'individuals', 'at', 'early', 'stages', 'of', 'the', 'disease', ',', 'but', 'this', 'category', 'is', 'highly', 'important', 'and', 'prediction', 'in', 'this', 'category', 'is', 'very', 'meaningful', '.'], ['Strong', 'effects', 'can', 'be', 'seen', 'from', 'the', 'interaction', 'of', 'a', 'gene', 'with', 'other', 'genetic', 'variants', '(', 'studied', 'using', 'pathways', '[', '4', ']', ')', '.'], ['From', 'a', 'health-', 'care', 'perspective', ',', 'the', 'current', 'knowledge', 'base', 'is', 'inadequate', 'toimplement', 'useful', 'genome-based', 'applications', '[', '7', ']', '.'], ['After', 'studying', 'some', 'prediction', 'methods', 'we', 'conclude', 'that', 'prediction', 'using', 'genomes', 'and', 'symptoms', 'is', 'weak', 'and', 'inaccu-', 'rate', 'even', 'today', '.'], ['Current', 'knowledge', 'is', 'insufﬁcient', 'to', 'develop', 'accurate', 'disease', 'prediction', 'applications', '.'], ['But', 'considering', 'the', 'pace', 'at', 'which', 'research', 'is', 'going', 'on', ',', 'machine', 'learning', 'algo-', 'rithms', 'are', 'being', 'developed', ',', 'analysis', 'of', 'genomes', 'using', 'big', 'data', ',', 'etc', '.'], ['the', 'accuracy', 'of', 'present', 'methods', 'is', 'bound', 'to', 'improve', 'by', 'a', 'healthy', 'margin', '.'], ['II', '.'], ['G', 'ENOMIC', 'PREDICTOR', 'FOR', 'DISEASES', 'Disease', 'prediction', 'based', 'symptoms', 'and', 'genome', 'analysis', 'is', 'one', 'of', 'the', 'most', 'interesting', 'and', 'challenging', 'task', '.'], ['The', 'lack', 'of', 'experts', 'and', 'wrongly', 'analyzed', 'cases', 'has', 'required', 'the', 'need', 'to', 'build', 'up', 'a', 'quick', 'and', 'effective', 'detection', 'system', '.'], ['The', 'main', 'objective', 'is', 'to', 'distinguish', 'the', 'key', 'patterns', 'or', 'gene', 'patterns', 'from', 'the', 'medical', 'data', 'using', 'the', 'classiﬁer', 'model', 'to', 'precisely', 'predict', 'the', 'disease', '.'], ['1', '.'], ['Identifying', 'Causal', 'Genes', 'and', 'Diseases', 'When', 'a', 'clinician', 'makes', 'his', 'or', 'her', 'diagnosis', ',', 'they', 'rely', 'on', 'a', 'variety', 'of', 'information', 'to', 'support', 'their', 'decision', ':', 'patient', 'behaviors', 'and', 'symptoms', ',', 'lab', 'values', ',', 'radiological', 'tests', ',', 'etc', '.'], ['The', 'results', 'ultimately', 'get', 'codiﬁed', 'into', 'formal', 'classiﬁcation', 'systems', ',', 'such', 'as', 'ICD-10', '.'], ['There', 'may', 'be', 'follow-up', 'tests', ',', 'second', 'and', 'third', 'opinions', 'before', 'a', 'disease', 'is', 'ﬁnally', 'conﬁrmed', '.'], ['Rarely', 'is', 'there', 'a', 'single', 'determining', 'factor', '.'], ['The', 'misalignment', 'that', 'commonly', 'occurs', 'between', 'what', 'the', 'user', 'wants', 'to', 'know', 'and', 'what', 'available', 'data', 'and', 'methods', 'can', 'actually', 'tell', 'us', 'about', 'the', 'problem', '.'], ['The', 'impact', 'of', 'genetic-based', 'predictive', 'models', 'on', 'clinical', 'decisions', 'and', 'therapy', 'choice', 'could', 'be', 'profound', '.'], ['However', ',', 'given', 'that', '(', 'i', ')', 'medical', 'traits', 'result', 'from', 'a', 'complex', 'interplay', 'between', 'genetic', 'and', 'environmental', 'factors', ',', '(', 'ii', ')', 'the', 'underlying', 'genetic', 'architectures', 'for', 'susceptibility', 'to', 'common', 'diseases', 'are', 'not', 'well-understood', ',', 'and', '(', 'iii', ')', 'replicable', 'susceptibility', 'alleles', ',', 'in', 'combination', ',', 'account', 'for', 'only', 'a', 'moderate', 'amount', 'of', 'disease', 'heritability', ',', 'there', 'are', 'substantial', 'challenges', 'to', 'constructing', 'and', 'implementing', 'genetic', 'risk', 'prediction', 'models', 'with', 'high', 'utility', '.'], ['In', 'spite', 'of', 'these', 'challenges', ',', 'concerted', 'progress', 'has', 'continued', 'in', 'this', 'area', 'with', 'an', 'ongoing', 'accumulation', 'of', 'studies', 'that', 'identify', 'disease', 'predisposing', 'genotypes', '.'], ['Multiple', 'lines', 'of', 'evidence', 'strongly', 'support', 'the', 'notion', 'that', 'the', 'large', 'majority', 'of', 'common', ',', 'chronic', 'diseases', 'have', 'complex', 'causes', '.'], ['Machine', 'can', 'predict', 'diseases', 'but', 'can', 'not', 'predict', 'the', 'sub', 'types', 'of', 'the', 'diseases', 'caused', 'by', 'occurrence', 'of', 'one', 'disease', '.'], ['It', 'fails', 'to', 'predict', 'all', 'possible', 'conditions', 'of', 'the', 'people', '.'], ['Existing', 'system', 'handles', 'only', 'structured', 'data', '.'], ['The', 'prediction', 'system', 'are', 'broad', 'and', 'ambiguous', '.'], ['First', ',', 'the', 'prevailing', 'systems', 'are', 'dearer', 'only', 'rich', 'people', 'could', 'pay', 'for', 'to', 'such', 'calculation', 'systems', '.'], ['And', 'also', ',', 'when', 'it', 'comes', 'to', 'folks', ',', 'it', 'becomes', 'even', 'higher', '.'], ['Second', ',', 'the', 'guess', 'systems', 'are', 'non-speciﬁc', 'and', 'indeﬁnite', 'so', 'far', '.'], ['So', 'that', ',', 'a', 'machine', 'can', 'envisage', 'a', 'positive', 'disease', 'but', 'can', 'not', 'expect', 'the', 'subtypes', 'of', 'the', 'diseases', 'and', 'diseases', 'caused', 'by', 'the', 'existence', 'of', 'one', 'bug', '.'], ['Multiple', 'predisposition', 'variants', 'may', 'not', 'yield', 'perfect', 'prediction', 'of', 'complex', 'diseases', 'alone', '.'], ['Thus', 'question', 'remains', 'whether', 'it', 'will', 'enhance', 'the', 'expectation', 'of', 'disease', 'past', 'conventional', 'risk', 'factors', '.'], ['Despite', 'the', 'fact', 'that', 'the', 'development', 'of', 'proﬁles', 'comprising', 'of', 'hereditary', 'and', 'ecological', 'hazard', 'factors', 'shows', 'up', 'an', 'obvious', 'solution', ',', 'studies', 'so', 'far', 'demonstrated', 'that', 'hereditary', 'components', 'don', '’', 't', 'signiﬁcantly', 'enhance', 'the', 'expectation', 'of', 'type', '2', 'diabetes', 'and', 'prostate', 'cancer', ',', 'yet', 'again', 'the', 'number', 'of', 'genes', 'examined', 'was', 'little', '.'], ['2', '.'], ['Data', 'Mining', 'For', 'Disease', 'Prediction', 'Data', 'Mining', 'is', 'a', 'standout', 'amongst', 'the', 'most', 'imperative', 'and', 'motivating', 'region', 'of', 'research', 'with', 'the', 'goal', 'of', 'ﬁnding', 'important', 'data', 'from', 'huge', 'data', 'sets', '.'], ['The', 'result', 'of', 'data', 'mining', 'innovations', 'are', 'to', 'give', 'beneﬁts', 'to', 'healthcare', 'association', 'for', 'gathering', 'the', 'patients', 'having', 'similar', 'type', 'of', 'diseases', 'or', 'medical', 'problems', 'with', 'the', 'goal', 'that', 'healthcare', 'association', 'gives', 'them', 'effective', 'treatments', '.'], ['Such', 'techniques', 'are', 'alsoused', 'to', 'analyze', 'the', 'different', 'factors', 'that', 'are', 'responsible', 'for', 'diseases', '.'], ['We', 'are', 'using', 'the', 'Classiﬁcation', 'approach', 'to', 'solve', 'our', 'problem', '.'], ['It', 'is', 'a', 'supervised', 'learning', 'approach', '.'], ['It', 'divides', 'data', 'samples', 'into', 'target', 'classes', 'and', 'predicts', 'them', 'for', 'each', 'data', 'point', '.'], ['This', 'concept', 'is', 'based', 'on', 'statistical', 'learning', 'theory', '.'], ['The', 'SVM', 'creates', 'a', 'hyper', 'plane', 'or', 'multiple', 'hyper', 'planes', 'in', 'high', 'dimensional', 'space', 'useful', 'for', 'classiﬁcation', '.'], ['To', 'maximise', 'the', 'separation', 'between', 'data', 'points', ',', 'SVM', 'creates', 'a', 'hyper', 'plane', 'in', 'original', 'input', 'space', '.'], ['To', 'make', 'this', 'separation', 'easier', ',', 'original', 'ﬁnite', 'dimensional', 'space', 'is', 'mapped', 'into', 'new', 'higher', 'dimensional', 'space', '.'], ['For', 'non-linear', 'mapping', 'of', 'training', 'samples', ',', 'kernel', 'functions', 'are', 'used', '.'], ['Thus', 'the', 'SVM', 'works', 'on', 'the', 'principle', 'that', 'data', 'points', 'are', 'characterized', 'using', 'hyper', 'plane', 'which', 'is', 'constructed', 'with', 'help', 'of', 'support', 'vectors', '.'], ['SVM', 'is', 'one', 'of', 'the', 'approaches', 'that', 'are', 'used', 'by', 'researcher', 'in', 'healthcare', 'ﬁeld', 'for', 'classiﬁcation', '.'], ['Fei', 'proposed', 'Particle', 'Swarm', 'Optimization', 'SVM', '(', 'PSO-SVM', ')', 'approach', 'for', 'analyzing', 'arrhythmia', 'cordis', '.'], ['3', '.'], ['Calculating', 'Conﬁdence', 'Factors', 'Our', 'application', 'will', 'be', 'at', 'affordable', 'cost', '.'], ['Calculating', 'diseases', 'as', 'well', 'as', 'calculating', 'other', 'thinkable', 'sub', 'diseases', '.'], ['Broadly', 'open', 'by', 'all', 'at', 'cheap', 'cost', '.'], ['Data', 'mining', 'used', '(', 'both', 'supervised', 'and', 'unsupervised', 'learning', ')', '.'], ['For', 'instance', ',', 'a', 'model', 'may', 'estimate', 'the', 'probability', 'of', 'an', 'abnormal', 'lab', 'value', '.'], ['These', 'method', '(', 's', ')', 'will', 'give', 'probability', 'of', 'contracting', 'a', 'disease', 'based', 'on', 'the', 'genetic', 'proﬁle', 'and', 'symptoms', '.'], ['If', 'they', 'turn', 'out', 'to', 'be', 'accurate', 'enough', ',', 'they', 'can', 'be', 'used', 'for', 'efﬁcient', 'and', 'cost', 'effective', 'disease', 'prediction', '.'], ['Genetic', 'variations', 'may', 'enhance', 'disease', 'prediction', 'past', 'conventional', 'risk', 'factors', 'when', 'they', 'are', 'engaged', 'with', 'obscure', 'pathways', 'or', 'in', 'pathways', 'with', 'unmeasurable', 'transitional', 'factors', '.'], ['New', 'yet', 'obscure', 'pathways', 'might', 'be', 'more', 'probable', 'for', 'a', 'few', 'diseases', 'than', 'for', 'others', '.'], ['III', '.'], ['F', 'UTURE', 'WORK', 'We', 'have', 'planned', 'to', 'develop', 'a', 'system', 'that', 'is', 'integrated', 'with', 'a', 'large', 'database', 'and', 'will', 'give', 'the', 'disease', 'subtypes', 'and', 'the', 'conﬁdence', 'factor', 'as', 'its', 'output', '.'], ['This', 'model', 'has', 'heavy', 'usage', 'of', 'the', 'machine', 'learning', 'algorithms', '.'], ['The', 'model', 'will', 'be', 'having', 'a', 'high', 'processing', 'power', 'as', 'it', 'will', 'have', 'to', 'handle', 'a', 'large', 'dataset', 'efﬁciently', '.'], ['Thus', ',', 'the', 'processor', 'must', 'be', 'fast', 'and', 'the', 'computational', 'time', 'should', 'be', 'minimum.We', 'will', 'retrieve', 'the', 'data', 'from', 'database', ',', 'normalize', 'it', 'and', 'apply', 'the', 'algorithm', 'on', 'it', '.'], ['This', 'approach', 'consists', 'six', 'modules', 'of', 'data', 'extraction', ',', 'prepro-', 'cessing', ',', 'classiﬁcation', 'of', 'genes', ',', 'generating', 'disease', 'models', ',', 'application', 'of', 'rules', 'and', 'ﬁnally', 'prediction', 'of', 'diseases', '.'], ['The', 'existing', 'genome', 'data', 'is', 'collected', 'considering', 'other', 'attributes', 'such', 'as', 'age', ',', 'sex', ',', 'etc', '.'], ['This', 'collected', 'data', 'is', 'given', 'to', 'the', 'system', '.'], ['The', 'system', 'gives', 'set', 'of', 'diseases', 'associated', 'with', 'genes', '.'], ['Further', 'result', 'is', 'given', 'for', 'calculating', 'the', 'conﬁdence', 'factor', '.'], ['It', 'will', 'display', 'the', 'set', 'of', 'diseases', 'and', 'conﬁdence', 'factor', 'to', 'the', 'user', ';', 'the', 'results', 'will', 'be', 'highlighted', 'if', 'the', 'conﬁdence', 'factor', 'isgreater', 'than', 'a', 'threshold', 'value', '.'], ['Given', 'this', 'model', ',', 'it', 'will', 'serve', 'as', 'a', 'great', 'help', 'to', 'predict', 'the', 'diseases', 'on', 'the', 'basis', 'of', 'genes', 'and', 'symptoms', '.'], ['REFERENCES', '[', '1', ']', 'Dhaval', 'Raval', ',', 'Dvijesh', 'Bhatt', ',', 'Malaram', 'K', 'Kumhar', ',', 'Vishal', 'Parikh', ',', 'Daiwat', 'Vyas', ',', '“', 'Medical', 'Diagnosis', 'System', 'Using', 'Machine', 'Learning', ',', '”', 'V', 'olume', '7', '•', 'Number', '1', 'Sept', '2015', '-', 'March', '2016', 'pp.177-182', '.'], ['[', '2', ']', 'Pooja', 'Dixit', ',', 'Ghanshyam', 'I.', 'Prajapati', ',', 'Machine', 'Learning', 'in', 'Bioinformat-', 'ics', ':', 'A', 'Novel', 'Approach', 'for', 'DNA', 'Sequencing', ',', '2015', 'Fifth', 'International', 'Conference', 'on', 'Advanced', 'Computing', '&', 'Communication', 'Technologies', '.'], ['pp', ':', '41-47', '[', '3', ']', 'Mayank', 'Pahadia', ',', 'Akash', 'Srivastava', ',', 'Divyang', 'Srivastava', ',', 'Dr.', 'Nagamma', 'Patil', ',', '“', 'Genome', 'Data', 'Analysis', 'using', 'MapReduce', 'Paradigm', ',', '”', '2015', 'Second', 'International', 'Conference', 'on', 'Advances', 'in', 'Computing', 'and', 'Com-', 'munication', 'Engineering', '.'], ['pp', ':', '556-559', '[', '4', ']', 'Syeeda', 'Farah', 'and', 'Sushma', 'M', 'S', ',', 'Dr.Asha', 'T', ',', 'Cauvery', 'B', 'and', 'Shivanand', 'K', '“', 'DNA', 'Based', 'Disease', 'Prediction', 'using', 'pathway', 'Analysis', ',', '”', '2017', 'IEEE', '7th', 'International', 'Advance', 'Computing', 'Conference', 'pp', ':', '629-634', '[', '5', ']', 'Kathiresan', ',', 'S.', ',', 'Melander', ',', 'O.', ',', 'Anevski', ',', 'D.', ',', 'Guiducci', ',', 'C.', ',', 'Burtt', ',', 'N.P.', ',', 'Roos', ',', 'C.', ',', 'Hirschhorn', ',', 'J.N.', ',', 'Berglund', ',', 'G.', ',', 'Hedblad', ',', 'B.', ',', 'Groop', ',', 'L', ',', 'et', 'al.', ',', '“', '(', '2008', ')', 'Polymorphisms', 'associated', 'with', 'cholesterol', 'and', 'risk', 'of', 'cardiovascular', 'events', ',', '”', 'N', '.'], ['Engl', '.'], ['J', '.'], ['Med.', ',', 'pp.358', ',', '1240–1249', '[', '6', ']', 'Thorgeirsson', ',', 'T.E.', ',', 'Geller', ',', 'F.', ',', 'Sulem', ',', 'P.', ',', 'Rafnar', ',', 'T.', ',', 'Wiste', ',', 'A.', ',', 'Mag-', 'nusson', ',', 'K.P.', ',', 'Manolescu', ',', 'A.', ',', 'Thorleifsson', ',', 'G.', ',', 'Stefansson', ',', 'H.', ',', 'Ingason', ',', 'A.', 'et', 'al.', ',', '“', '(', '2008', ')', 'A', 'variant', 'associated', 'with', 'nicotine', 'dependence', ',', 'lung', 'cancer', 'and', 'peripheral', 'arterial', 'disease', ',', '”', 'Nature', ',', 'pp.452', ',', '638–642', '.'], ['[', '7', ']', 'A', 'Cecile', 'JW', 'Janssens', 'and', 'Cornelia', 'M', 'van', 'Duijn', ',', '“', 'Genome-based', 'prediction', 'of', 'common', 'diseases', ':', 'methodological', 'considerations', 'for', 'future', 'research', ',', '”', 'Published', ':', '18', 'February', '2009', 'Genome', 'Medicine', '2009', ',', '1', ':', 'N', '(', 'doi:10.1186/gm20', ')', '.'], ['pp', ':', 'r166-r173', '[', '8', ']', 'Steven', 'J.', 'Schrodi', ',', 'Shubhabrata', 'Mukherjee', ',', 'Ying', 'Shan', ',', 'Gerard', 'Tromp', ',', 'John', 'J.', 'Sninsky', ',', 'Amy', 'P.', 'Callear', ',', 'Tonia', 'C.', 'Carter', ',', 'Zhan', 'Ye', ',', 'Jonathan', 'L.', 'Haines', ',', 'Murray', 'H.', 'Brilliant', ',', 'Paul', 'K.', 'Crane', ',', 'Diane', 'T.', 'Smelser', ',', 'Robert', 'C.', 'Elston', 'and', 'Daniel', 'E.', 'Weeks', ',', '“', 'Genetic-based', 'prediction', 'of', 'disease', 'traits', ':', 'prediction', 'is', 'very', 'difﬁcult', ',', 'especially', 'about', 'the', 'future', ',', '”', 'published', ':', '02', 'June', '2014', 'doi', ':', '10.3389/fgene.2014.00162', '.'], ['pp:5-162', '[', '9', ']', 'Holtzman', ',', 'N.A', '.'], ['and', 'Marteau', ',', 'T.M.', ',', '“', 'Will', 'genetics', 'revolutionize', 'medicine', '?', ',', '”', '(', '2000', ')', 'N.', 'Engl', '.'], ['J', '.'], ['Med.', ',', 'pp.343', ',', '141–144', '.'], ['[', '10', ']', 'Vineis', ',', 'P.', ',', 'Schulte', ',', 'P.', 'and', 'McMichael', ',', 'A.J.', ',', '“', 'Misconceptions', 'about', 'the', 'use', 'of', 'genetic', 'tests', 'in', 'populations.', ',', '”', 'Genome', 'Research', ',', 'vol', '.'], ['20', ',', 'no', '.'], ['9', ',', 'pp', '.'], ['1297–1303', ',', '2010', '.'], ['[', '11', ']', 'A.', 'McKenna', ',', '“', 'The', 'genome', 'analysis', 'toolkit', ':', 'A', 'mapreduce', 'framework', 'for', 'analyzing', 'next-generation', 'dna', 'sequencing', 'data', ',', '”', '(', '2001', ')', 'Lancet', ',', 'pp.357', ',', '709–712', '.'], ['[', '12', ']', 'Wray', ',', 'N.R.', ',', 'Goddard', ',', 'M.E', '.'], ['and', 'Visscher', ',', 'P.M.', ',', '“', 'Prediction', 'of', 'individual', 'genetic', 'risk', 'to', 'disease', 'from', 'genome-wide', 'association', 'studies', ',', '”', '(', '2007', ')', 'Genome', 'Res.', ',', 'pp.17', ',', '1520–1528', '.'], ['[', '13', ']', 'Sebastian', 'Okser', ',', 'TapioPahikkala', 'and', 'TeroAittokallio', ',', '“', 'Genetic', 'variants', 'and', 'their', 'interactions', 'in', 'disease', 'risk', 'prediction', '–', 'machine', 'learning', 'and', 'network', 'perspectives', ',', '”', 'BioData', 'Mining', ',', '6:5', ',', '2013.', 'pp', ':', '1-16', '[', '14', ']', 'Li', 'Ding', ',', 'Michael', 'C.', 'Wendl', ',', 'Daniel', 'C.', 'Koboldt', 'and', 'Elaine', 'R.', 'Mardis', ',', '“', 'Analysis', 'of', 'next-generation', 'genomic', 'data', 'in', 'cancer', ':', 'accom-', 'plishments', 'and', 'challenges', ',', '”', 'Human', 'Molecular', 'Genetics', ',', 'R1–R9', ',', '2010.', 'pp', ':', '188-196', '[', '15', ']', 'Brand', 'A', ',', 'Brand', 'H', ',', 'Schulte', 'in', 'den', 'B', '¨aumen', ',', '“', 'The', 'impact', 'of', 'genetics', 'and', 'genomics', 'on', 'public', 'health', ',', '”', 'Eur', 'J', 'Hum', 'Genet', '2008', ',', '16.', 'pp', ':', '5-13', '[', '16', ']', 'Haga', 'SB', ',', 'Khoury', 'MJ', ',', 'Burke', 'W', ',', '“', 'Genomic', 'proﬁling', 'to', 'promote', 'a', 'healthy', 'lifestyle', ':', 'not', 'ready', 'for', 'prime', 'time', ',', '”', 'Nat', 'Genet', '2003', ',', '34', ':', 'pp.347-350', '.'], ['[', '17', ']', 'Gunay', ',', 'Adem', 'Karadag', ',', '“', 'Predicting', 'Functional', 'Regions', 'in', 'Genomic', 'DNA', 'Sequences', 'Using', 'Artiﬁcial', 'Neural', 'Network', ',', '”', 'International', 'Journal', 'of', 'Engineering', 'Inventions', 'V', 'olume', '3', ',', 'Issue', '6', '(', 'January', '2014', ')', '.'], ['pp', ':', '2278-', '7461', '[', '18', ']', '“', 'Application', 'of', 'Data', 'mining', 'in', 'Bioinformatics', ',', '”', 'Indian', 'journal', 'of', 'com-', 'puter', 'of', 'science', 'and', 'engineering', 'V', 'olume', '1', 'No.2', 'pp.114-118', '.'], ['[', '19', ']', 'MdSaiful', 'Islam', ',', 'Md', 'MahmudulHasan', ',', 'Xiaoyi', 'Wang', ',', 'Hayley', 'D.', 'Ger-', 'mack', 'and', 'MdNoor-E-Alam', ',', '“', 'Review', 'ASystematic', 'Review', 'on', 'Health-', 'care', 'Analytics', ':', 'Application', 'and', 'Theoretical', 'Perspective', 'of', 'Data', 'Min-', 'ing', ',', '”', 'Human', 'Molecular', 'Genetics', ',', 'R1–R9', ',', '2010', '.'], ['[', '20', ']', 'Mohammad', 'Ahmad', 'Alkhatib', ',', 'Amir', 'Talaei-Khoei', ',', '“', 'Analysis', 'of', 'Research', 'in', 'Healthcare', 'Data', 'Analytics', 'et', 'al', ',', '”', 'Australasian', 'Conference', 'on', 'Infor-', 'mation', 'Systems', 'Al', 'Khatib', 'et', 'al', '2015', ',', 'Sydney', '.'], ['[', '21', ']', 'Lander', ',', 'E.S', '.'], [';', 'Linton', ',', 'L.M', '.'], [';', 'Birren', ',', 'B.', ';', 'Nusbaum', ',', 'C.', ';', 'Zody', ',', 'M.C', '.'], [';', 'Baldwin', ',', 'J.', ';', 'Devon', ',', 'K.', ';', 'Dewar', ',', 'K.', ';', 'Doyle', ',', 'M.', ';', 'FitzHugh', ',', '“', 'Initial', 'sequencing', 'and', 'analysis', 'of', 'the', 'human', 'genome', ',', '”', 'Nature', '2001', ',', 'pp.409', ',', '860–921', '.']]\n"
     ]
    }
   ],
   "source": [
    "from nltk.tokenize import sent_tokenize, word_tokenize\n",
    "\n",
    "def preprocess(text):\n",
    "    sentences = sent_tokenize(text)\n",
    "    words = [word_tokenize(sentence) for sentence in sentences]\n",
    "    # Additional cleaning steps like removing stop words, lowercasing, etc.\n",
    "    return sentences, words\n",
    "\n",
    "sentences, words = preprocess(text)\n",
    "print(sentences)\n",
    "print(words)"
   ]
  },
  {
   "cell_type": "markdown",
   "id": "7a578c44-5582-4f28-b0fd-871901e2f00a",
   "metadata": {},
   "source": [
    "# Step 4: Feature Extraction"
   ]
  },
  {
   "cell_type": "markdown",
   "id": "0d005724-4f50-4306-8119-0192c418acdc",
   "metadata": {},
   "source": [
    "## Extract Features:\n",
    "Use `spaCy` for `POS tagging` and `Gensim` for `word embeddings`"
   ]
  },
  {
   "cell_type": "code",
   "execution_count": 19,
   "id": "753f6255-2943-4c28-a753-090d3cdee8a8",
   "metadata": {},
   "outputs": [
    {
     "name": "stderr",
     "output_type": "stream",
     "text": [
      "[nltk_data] Downloading package punkt to\n",
      "[nltk_data]     C:\\Users\\visut\\AppData\\Roaming\\nltk_data...\n",
      "[nltk_data]   Package punkt is already up-to-date!\n",
      "[nltk_data] Downloading package averaged_perceptron_tagger to\n",
      "[nltk_data]     C:\\Users\\visut\\AppData\\Roaming\\nltk_data...\n",
      "[nltk_data]   Package averaged_perceptron_tagger is already up-to-\n",
      "[nltk_data]       date!\n"
     ]
    },
    {
     "name": "stdout",
     "output_type": "stream",
     "text": [
      "['NNP', 'CC', 'NNP', 'VBN', 'NNP', 'NNP', 'NNP', 'NNP', 'NNP', 'NNP', '.', 'NNP', ',', 'NNP', 'NNP', 'NNP', ',', 'NNP', 'VBD', 'NNP', 'NN', 'NNP', 'NNP', 'NNP', '.', 'NNP', ',', 'NNP', 'NNP', 'NNP', ',', 'NNP', 'NNP', 'NNP', 'VBD', 'NNP', 'NNP', 'NNP', '.', 'NNP', ',', 'NNP', 'NNP', 'NNP', ',', 'NNP', 'NN', 'NNP', 'NN', 'NNP', 'NNP', 'NNP', 'NNP', 'NNP', 'IN', 'JJ', 'NN', 'IN', 'NN', 'IN', 'JJ', 'JJ', 'NN', 'VBZ', 'DT', 'RB', 'JJ', 'NN', '.', 'NNP', 'VBG', 'NNS', 'MD', 'VB', 'VBN', 'IN', 'JJ', 'NNS', '.', 'JJ', 'NNS', 'VBP', 'VBN', 'IN', 'DT', 'NN', '.', 'RB', ',', 'JJ', 'JJ', 'NNS', 'MD', 'VB', 'VBN', 'NN', 'IN', 'NN', 'CC', 'NN', '.', 'RB', ',', 'VBN', 'IN', '(', 'NN', ')', 'NN', 'VBP', 'VBN', 'IN', 'JJ', 'CC', 'JJ', 'JJ', 'NNS', ',', '(', 'NN', ')', 'DT', 'JJ', 'NN', 'IN', 'NN', 'TO', 'JJ', 'NNS', 'VBZ', 'RB', 'JJ', ',', 'CC', '(', 'NN', ')', 'JJ', 'NN', 'NNS', ',', 'IN', 'NN', ',', 'NN', 'IN', 'RB', 'DT', 'JJ', 'NN', 'IN', 'NN', 'NN', ',', 'NN', 'IN', 'NN', 'VBG', 'NNS', 'VBZ', 'JJ', 'RB', 'CD', 'NN', '.', 'JJ', 'NN', 'VBZ', 'VBN', 'VBN', 'IN', 'JJ', 'NN', '(', 'IN', 'NN', ')', 'WDT', 'VBP', 'NN', 'VBG', 'NNS', '.', 'DT', 'NNS', 'IN', 'NN', 'NN', 'VBP', 'VBN', 'VBN', '.', 'PRP', 'VBP', 'VBN', 'DT', 'JJ', 'NN', 'IN', 'NN', 'NN', ',', 'NNS', 'VBD', 'IN', 'NN', 'CC', 'NNS', 'VBN', 'NN', '.', 'NNP', 'NN', 'IN', 'DT', 'NN', 'IN', 'NNS', 'CC', 'NNS', 'VBZ', 'RB', 'VBN', 'DT', 'JJ', 'NN', '.', 'DT', 'JJ', 'NNS', 'IN', 'JJ', 'NN', 'IN', 'DT', 'NNS', 'VBD', 'NN', 'JJ', 'NN', 'CC', 'JJ', '.', 'RB', 'NN', 'NN', 'MD', 'VB', 'VBN', 'TO', 'VB', 'DT', 'NNS', 'CC', 'VB', 'DT', 'NNS', 'RB', '.', 'NNP', 'JJ', 'NN', 'NNS', 'VBD', 'CC', 'JJ', 'NN', 'NNS', 'CC', 'RB', 'VBZ', 'IN', 'JJ', 'NN', 'IN', 'NNS', 'VBP', 'CD', 'NNP', '.', 'JJS', 'IN', 'DT', 'NN', 'NN', 'NNS', 'VBP', 'NNS', 'NN', 'CC', 'JJ', 'NN', 'VBG', 'NNS', '$', 'CD', 'NNP', '.', 'NNP', 'NNP', 'NNP', ',', 'NNP', 'NNP', 'NNP', '(', 'NNP', ')', ',', 'NNP', 'NN', '(', 'NNP', ')', ',', 'IN', 'IN', 'JJ', 'NNS', 'VBG', 'DT', 'NN', 'IN', 'DT', 'IN', 'DT', 'NNS', 'VBP', 'VBN', '.', 'NNP', 'NN', '(', 'NNP', ')', 'CC', 'JJ', 'NN', '(', 'NNP', ')', 'VBP', 'JJ', 'NNS', 'WDT', 'VBP', 'DT', 'JJ', 'NN', '.', 'DT', 'NN', 'VBZ', 'DT', 'JJ', 'NN', 'NN', 'CC', 'VBZ', 'PDT', 'DT', 'JJ', 'JJ', 'NN', '.', 'DT', 'NN', 'VBZ', 'VBN', 'IN', 'JJ', 'VBG', 'JJ', 'NN', 'NNP', 'NNP', 'NNP', ',', 'NN', 'NNP', 'NNP', 'NNP', ',', 'NN', 'VBD', 'NNP', 'NNP', 'CC', 'VB', 'NNP', 'NNP', 'NNP', '.', 'NNP', 'VBZ', 'IN', 'VBG', ',', 'VBG', 'CC', 'VBG', 'NN', 'IN', 'DT', 'NN', 'NN', '.', 'NNP', ',', 'IN', 'VBG', 'RB', 'VBN', 'IN', 'NN', 'NN', 'IN', 'JJ', 'NNS', ',', 'VBZ', 'RB', 'JJ', 'IN', 'NN', 'NN', 'RB', 'IN', 'NNP', 'NNP', 'CD', 'NNP', '.', 'RB', 'NNS', 'IN', 'NNP', 'NNP', 'NNP', '(', 'NNP', ')', ',', 'NNP', 'JJ', 'NNP', 'NNP', '(', 'NNP', ')', ',', 'NNP', 'NNP', 'NN', 'NNP', '(', 'NNP', ')', ',', 'NNP', 'NNP', 'NNP', ',', 'FW', 'VBP', 'PRP$', 'JJ', 'NNS', 'CC', 'NNS', '.', 'RB', 'JJ', 'NN', 'IN', 'NNS', 'MD', 'VB', 'VBN', '.', 'DT', 'NN', 'VBZ', 'DT', 'JJ', 'NN', 'IN', 'DT', 'JJ', 'NN', '(', 'NN', ')', '.', 'PRP', 'RB', 'VBZ', 'TO', 'PDT', 'DT', 'JJ', 'NNS', 'IN', 'NN', 'NN', 'WDT', 'VBP', 'VBN', 'IN', 'DT', 'NN', 'NN', 'CD', 'NN', '.', 'NN', 'MD', 'VB', 'NN', 'CC', 'NN', 'IN', 'NNS', '.', 'RB', 'NNP', 'NN', 'VBZ', 'VBN', 'TO', 'VB', 'CC', 'VB', 'DT', 'JJ', 'NN', 'VBN', 'NNP', 'NN', 'NN', 'VBD', 'CD', 'NN', '.', 'DT', 'VBG', 'NNS', 'VBG', 'IN', 'JJ', 'JJ', 'NNS', 'VBP', 'JJ', 'CC', 'JJ', 'NNS', '.', 'JJ', 'JJ', 'NNS', 'VBP', 'JJ', 'NN', ',', 'NN', 'CC', 'JJ', 'NN', 'CC', 'JJ', 'NNS', 'VBP', 'NNP', 'NNS', ',', 'NN', 'NNS', ',', 'CC', 'JJ', 'NNP', 'NNS', '.', 'DT', 'NN', 'IN', 'NN', 'NN', 'NNS', 'CC', 'PRP$', 'NN', 'VBZ', 'DT', 'NN', 'TO', 'DT', 'JJ', 'NNS', 'NN', '.', 'NNP', 'JJ', 'NN', ',', 'NNP', 'NN', 'CC', 'NN', 'NN', 'VBP', 'DT', 'JJ', 'JJ', 'NNS', 'WDT', 'VBP', 'VBN', 'JJ', 'NN', 'IN', 'JJ', 'NN', '.', 'VBG', 'JJ', 'CC', 'JJ', 'NN', 'IN', 'DT', 'JJ', 'NN', 'IN', 'NN', 'NNS', 'VBP', 'DT', 'JJ', 'NNS', 'IN', 'JJ', 'NNS', '.', 'IN', 'VBG', 'JJ', 'JJ', 'NN', ',', 'JJ', 'NN', 'IN', 'JJ', 'NN', 'MD', 'VB', 'DT', 'JJ', 'NN', 'IN', 'JJ', 'NNS', 'IN', 'JJ', 'NNS', 'WDT', 'MD', 'VB', 'JJ', 'NN', '.', 'PRP', 'VBZ', 'JJ', 'TO', 'VB', 'DT', 'JJ', 'NNS', 'WDT', 'VBP', 'JJ', 'JJ', 'NNS', '.', 'DT', 'JJ', 'NN', 'IN', 'NNS', 'MD', 'RB', 'VB', 'RB', 'JJ', 'JJ', 'NN', 'IN', 'JJ', 'NN', 'NNS', 'IN', 'DT', 'NNS', 'VBP', 'DT', 'NN', 'NNS', '.', 'NNP', 'NNS', 'IN', 'NN', 'CC', 'NN', 'CC', 'NN', 'NNS', 'NNS', 'VBN', 'IN', 'JJ', 'NN', 'VBD', 'CD', 'NNP', 'VBD', 'CD', 'NNP', '.', 'JJS', 'NNS', 'VBP', 'VBN', 'IN', 'DT', 'NN', 'IN', 'NNS', '.', 'NNP', 'TO', 'NN', 'NN', 'VBP', 'DT', 'NN', 'IN', 'DT', 'NNS', '.', 'DT', 'JJ', 'NNS', 'IN', 'DT', 'NN', 'MD', 'VB', 'VBN', 'IN', 'VBG', 'JJ', 'NNS', 'IN', 'JJ', 'NNS', '.', 'RB', 'NN', 'MD', 'VB', 'VBN', 'IN', 'NN', 'IN', 'NN', '.', 'NNP', 'MD', 'VB', 'VBN', 'IN', 'VBG', 'DT', 'NN', 'VBG', 'NNS', 'JJ', 'IN', 'NNP', '.', 'NNP', 'NNS', 'VBP', 'VBN', 'IN', 'PDT', 'DT', 'NN', 'VBG', 'NNS', 'CC', 'DT', 'NN', '(', 'VBN', 'IN', 'NN', ')', 'IN', 'DT', 'NN', 'VBZ', 'VBN', '.', 'DT', 'NN', 'VBZ', 'VBN', 'IN', 'VBG', 'JJ', 'NNS', 'CC', 'VBG', 'RB', 'DT', 'NNS', 'WDT', 'VBP', 'DT', 'JJ', 'NN', '$', 'CD', 'NNP', '.', 'NNP', 'CC', 'NN', 'IN', 'JJ', 'NN', 'IN', 'DT', 'JJ', 'NN', 'VBZ', 'RB', 'JJ', '.', 'IN', 'DT', 'NN', ',', 'NN', 'IN', 'JJ', 'NN', 'NNS', 'VBG', 'NNS', 'CC', 'NNS', 'VBZ', 'RB', 'RB', 'JJ', 'JJ', '.', 'JJ', 'NN', 'VBZ', 'VBN', 'VBN', 'TO', 'VB', 'DT', 'NN', 'JJ', 'TO', 'JJ', 'NNS', '(', 'JJ', ',', 'NN', ',', 'NNP', ',', 'NN', ')', '.', 'NN', 'IN', 'NN', 'TO', 'DT', 'NN', 'VBZ', 'RBS', 'NN', 'IN', 'NNS', 'IN', 'JJ', 'NNS', 'IN', 'DT', 'NN', ',', 'CC', 'DT', 'NN', 'VBZ', 'RB', 'JJ', 'CC', 'NN', 'IN', 'DT', 'NN', 'VBZ', 'RB', 'JJ', '.', 'JJ', 'NNS', 'MD', 'VB', 'VBN', 'IN', 'DT', 'NN', 'IN', 'DT', 'NN', 'IN', 'JJ', 'JJ', 'NNS', '(', 'VBN', 'VBG', 'NNS', '$', 'CD', 'NN', ')', '.', 'IN', 'DT', 'JJ', 'NN', 'NN', ',', 'DT', 'JJ', 'NN', 'NN', 'VBZ', 'JJ', 'JJ', 'JJ', 'JJ', 'NNS', 'VBP', 'CD', 'NN', '.', 'IN', 'VBG', 'DT', 'NN', 'NNS', 'PRP', 'VBP', 'DT', 'NN', 'VBG', 'NNS', 'CC', 'NNS', 'VBZ', 'JJ', 'CC', 'JJ', 'NN', 'RB', 'NN', '.', 'NNP', 'NN', 'VBZ', 'JJ', 'TO', 'VB', 'JJ', 'NN', 'NN', 'NNS', '.', 'CC', 'VBG', 'DT', 'NN', 'IN', 'WDT', 'NN', 'VBZ', 'VBG', 'IN', ',', 'NN', 'VBG', 'JJ', 'NNS', 'VBP', 'VBG', 'VBN', ',', 'NN', 'IN', 'NNS', 'VBG', 'JJ', 'NNS', ',', 'FW', '.', 'DT', 'NN', 'IN', 'JJ', 'NNS', 'VBZ', 'VBN', 'TO', 'VB', 'IN', 'DT', 'JJ', 'NN', '.', 'NNP', '.', 'NNP', 'NNP', 'NNP', 'NNP', 'NNP', 'NNP', 'NN', 'VBN', 'NNS', 'CC', 'JJ', 'NN', 'VBZ', 'CD', 'IN', 'DT', 'RBS', 'JJ', 'CC', 'JJ', 'NN', '.', 'DT', 'NN', 'IN', 'NNS', 'CC', 'RB', 'JJ', 'NNS', 'VBZ', 'VBN', 'DT', 'NN', 'TO', 'VB', 'RP', 'DT', 'NN', 'CC', 'JJ', 'NN', 'NN', '.', 'DT', 'JJ', 'NN', 'VBZ', 'TO', 'VB', 'DT', 'NN', 'VBZ', 'CC', 'NN', 'NNS', 'IN', 'DT', 'JJ', 'NNS', 'VBG', 'DT', 'NN', 'NN', 'TO', 'RB', 'VB', 'DT', 'NN', '.', 'CD', '.', 'VBG', 'NNP', 'NNP', 'CC', 'NNP', 'WRB', 'DT', 'JJ', 'VBZ', 'PRP$', 'CC', 'PRP$', 'NN', ',', 'PRP', 'VBP', 'IN', 'DT', 'NN', 'IN', 'NN', 'TO', 'VB', 'PRP$', 'NN', ':', 'JJ', 'NNS', 'CC', 'NNS', ',', 'NN', 'NNS', ',', 'JJ', 'NNS', ',', 'FW', '.', 'DT', 'NNS', 'RB', 'VBP', 'VBN', 'IN', 'JJ', 'NN', 'NNS', ',', 'JJ', 'IN', 'NNP', '.', 'EX', 'MD', 'VB', 'JJ', 'NNS', ',', 'JJ', 'CC', 'JJ', 'NNS', 'IN', 'DT', 'NN', 'VBZ', 'RB', 'VBN', '.', 'RB', 'VBZ', 'EX', 'DT', 'JJ', 'NN', 'NN', '.', 'DT', 'NN', 'IN', 'JJ', 'VBZ', 'IN', 'WP', 'DT', 'NN', 'VBZ', 'TO', 'VB', 'CC', 'WP', 'JJ', 'NNS', 'CC', 'NNS', 'MD', 'RB', 'VB', 'PRP', 'IN', 'DT', 'NN', '.', 'DT', 'NN', 'IN', 'JJ', 'JJ', 'NNS', 'IN', 'JJ', 'NNS', 'CC', 'NN', 'NN', 'MD', 'VB', 'VBN', '.', 'RB', ',', 'VBN', 'IN', '(', 'NN', ')', 'JJ', 'NNS', 'VBP', 'IN', 'DT', 'JJ', 'NN', 'IN', 'JJ', 'CC', 'JJ', 'NNS', ',', '(', 'NN', ')', 'DT', 'JJ', 'JJ', 'NNS', 'IN', 'NN', 'TO', 'JJ', 'NNS', 'VBP', 'RB', 'JJ', ',', 'CC', '(', 'NN', ')', 'JJ', 'NN', 'NNS', ',', 'IN', 'NN', ',', 'NN', 'IN', 'RB', 'DT', 'JJ', 'NN', 'IN', 'NN', 'NN', ',', 'EX', 'VBP', 'JJ', 'NNS', 'TO', 'VBG', 'CC', 'VBG', 'JJ', 'NN', 'NN', 'NNS', 'IN', 'JJ', 'NN', '.', 'IN', 'NN', 'IN', 'DT', 'NNS', ',', 'VBD', 'NN', 'VBZ', 'VBN', 'IN', 'DT', 'NN', 'IN', 'DT', 'JJ', 'NN', 'IN', 'NNS', 'WDT', 'VBP', 'NN', 'VBG', 'NNS', '.', 'NNP', 'NNS', 'IN', 'NN', 'RB', 'VB', 'DT', 'NN', 'IN', 'DT', 'JJ', 'NN', 'IN', 'JJ', ',', 'JJ', 'NNS', 'VBP', 'JJ', 'NNS', '.', 'NN', 'MD', 'VB', 'NNS', 'CC', 'MD', 'RB', 'VB', 'DT', 'NN', 'NNS', 'IN', 'DT', 'NNS', 'VBN', 'IN', 'NN', 'IN', 'CD', 'NN', '.', 'PRP', 'VBZ', 'TO', 'VB', 'DT', 'JJ', 'NNS', 'IN', 'DT', 'NNS', '.', 'VBG', 'NN', 'VBZ', 'RB', 'VBN', 'NNS', '.', 'DT', 'NN', 'NN', 'VBP', 'JJ', 'CC', 'JJ', '.', 'NNP', ',', 'DT', 'NN', 'NNS', 'VBP', 'JJ', 'RB', 'JJ', 'NNS', 'MD', 'VB', 'IN', 'TO', 'JJ', 'NN', 'NNS', '.', 'CC', 'RB', ',', 'WRB', 'PRP', 'VBZ', 'TO', 'NNS', ',', 'PRP', 'VBZ', 'RB', 'JJR', '.', 'NNP', ',', 'DT', 'NN', 'NNS', 'VBP', 'JJ', 'CC', 'VB', 'RB', 'RB', '.', 'CC', 'IN', ',', 'DT', 'NN', 'MD', 'VB', 'DT', 'JJ', 'NN', 'CC', 'MD', 'RB', 'VB', 'DT', 'NNS', 'IN', 'DT', 'NNS', 'CC', 'NNS', 'VBN', 'IN', 'DT', 'NN', 'IN', 'CD', 'NN', '.', 'JJ', 'NN', 'NNS', 'MD', 'RB', 'VB', 'JJ', 'NN', 'IN', 'JJ', 'NNS', 'RB', '.', 'JJ', 'NN', 'VBZ', 'IN', 'PRP', 'MD', 'VB', 'DT', 'NN', 'IN', 'NN', 'JJ', 'JJ', 'NN', 'NNS', '.', 'IN', 'DT', 'NN', 'IN', 'DT', 'NN', 'IN', 'NNS', 'VBG', 'IN', 'JJ', 'CC', 'JJ', 'NN', 'NNS', 'VBZ', 'RP', 'DT', 'JJ', 'NN', ',', 'NNS', 'RB', 'RB', 'VBD', 'IN', 'JJ', 'NNS', 'VBP', 'JJ', 'NN', 'RB', 'VB', 'DT', 'NN', 'IN', 'NN', 'CD', 'NNS', 'CC', 'NN', 'NN', ',', 'RB', 'RB', 'DT', 'NN', 'IN', 'NNS', 'VBN', 'VBD', 'JJ', '.', 'CD', '.', 'NNS', 'VBG', 'IN', 'NNP', 'NNP', 'NNP', 'NNP', 'VBZ', 'DT', 'NN', 'IN', 'DT', 'RBS', 'JJ', 'CC', 'JJ', 'NN', 'IN', 'NN', 'IN', 'DT', 'NN', 'IN', 'VBG', 'JJ', 'NNS', 'IN', 'JJ', 'NNS', 'NNS', '.', 'DT', 'NN', 'IN', 'NNS', 'NN', 'NNS', 'VBP', 'TO', 'VB', 'NN', 'TO', 'VB', 'NN', 'IN', 'VBG', 'DT', 'NNS', 'VBG', 'JJ', 'NN', 'IN', 'NNS', 'CC', 'JJ', 'NNS', 'IN', 'DT', 'NN', 'WDT', 'VBZ', 'NN', 'VBZ', 'PRP', 'JJ', 'NNS', '.', 'JJ', 'NNS', 'VBP', 'VBN', 'TO', 'VB', 'DT', 'JJ', 'NNS', 'WDT', 'VBP', 'JJ', 'IN', 'NNS', '.', 'PRP', 'VBP', 'VBG', 'DT', 'NNP', 'NN', 'TO', 'VB', 'PRP$', 'NN', '.', 'PRP', 'VBZ', 'DT', 'JJ', 'NN', 'NN', '.', 'PRP', 'VBZ', 'NN', 'NNS', 'IN', 'NN', 'NNS', 'CC', 'VBZ', 'PRP', 'IN', 'DT', 'NN', 'NN', '.', 'DT', 'NN', 'VBZ', 'VBN', 'IN', 'JJ', 'VBG', 'NN', '.', 'DT', 'NNP', 'VBZ', 'DT', 'JJ', 'NN', 'CC', 'JJ', 'JJ', 'NNS', 'IN', 'JJ', 'JJ', 'NN', 'JJ', 'IN', 'NN', '.', 'TO', 'VB', 'DT', 'NN', 'IN', 'NNS', 'NNS', ',', 'NNP', 'VBZ', 'DT', 'JJ', 'NN', 'IN', 'JJ', 'NN', 'NN', '.', 'TO', 'VB', 'DT', 'NN', 'JJR', ',', 'JJ', 'NNP', 'JJ', 'NN', 'VBZ', 'VBN', 'IN', 'JJ', 'JJR', 'JJ', 'NN', '.', 'IN', 'JJ', 'NN', 'IN', 'NN', 'NNS', ',', 'NNS', 'NNS', 'VBP', 'VBN', '.', 'VB', 'DT', 'NNP', 'VBZ', 'IN', 'DT', 'NN', 'WDT', 'VBZ', 'NNS', 'VBP', 'VBN', 'VBG', 'NN', 'NN', 'WDT', 'VBZ', 'VBN', 'IN', 'NN', 'IN', 'NN', 'NNS', '.', 'NNP', 'VBZ', 'CD', 'IN', 'DT', 'NNS', 'WDT', 'VBP', 'VBN', 'IN', 'NN', 'IN', 'JJ', 'NN', 'IN', 'NN', '.', 'NNP', 'VBD', 'NNP', 'NNP', 'NNP', 'NNP', '(', 'NNP', ')', 'NN', 'IN', 'VBG', 'NN', 'NN', '.', 'CD', '.', 'VBG', 'NN', 'NNPS', 'PRP$', 'NN', 'MD', 'VB', 'IN', 'JJ', 'NN', '.', 'VBG', 'NNS', 'RB', 'RB', 'IN', 'VBG', 'JJ', 'JJ', 'NN', 'NNS', '.', 'RB', 'JJ', 'IN', 'DT', 'IN', 'JJ', 'NN', '.', 'NNP', 'NN', 'VBN', '(', 'DT', 'VBN', 'CC', 'JJ', 'NN', ')', '.', 'IN', 'NN', ',', 'DT', 'NN', 'MD', 'VB', 'DT', 'NN', 'IN', 'DT', 'JJ', 'NN', 'NN', '.', 'DT', 'NN', '(', 'NN', ')', 'MD', 'VB', 'NN', 'IN', 'VBG', 'DT', 'NN', 'VBN', 'IN', 'DT', 'JJ', 'NN', 'CC', 'NNS', '.', 'IN', 'PRP', 'VBP', 'RP', 'TO', 'VB', 'JJ', 'RB', ',', 'PRP', 'MD', 'VB', 'VBN', 'IN', 'NN', 'CC', 'NN', 'JJ', 'NN', 'NN', '.', 'JJ', 'NNS', 'MD', 'VB', 'NN', 'NN', 'IN', 'JJ', 'NN', 'NNS', 'WRB', 'PRP', 'VBP', 'VBN', 'IN', 'JJ', 'NNS', 'CC', 'IN', 'NNS', 'IN', 'JJ', 'JJ', 'NNS', '.', 'NNP', 'RB', 'VBP', 'NNS', 'MD', 'VB', 'RBR', 'JJ', 'IN', 'DT', 'JJ', 'NNS', 'IN', 'IN', 'NNS', '.', 'NNP', '.', 'NNP', 'NNP', 'NNP', 'PRP', 'VBP', 'VBN', 'TO', 'VB', 'DT', 'NN', 'WDT', 'VBZ', 'VBN', 'IN', 'DT', 'JJ', 'NN', 'CC', 'MD', 'VB', 'DT', 'NN', 'NNS', 'CC', 'DT', 'NN', 'NN', 'IN', 'PRP$', 'NN', '.', 'DT', 'NN', 'VBZ', 'JJ', 'NN', 'IN', 'DT', 'NN', 'VBG', 'NN', '.', 'DT', 'NN', 'MD', 'VB', 'VBG', 'DT', 'JJ', 'NN', 'NN', 'IN', 'PRP', 'MD', 'VB', 'TO', 'VB', 'DT', 'JJ', 'NN', 'RB', '.', 'RB', ',', 'DT', 'NN', 'MD', 'VB', 'RB', 'CC', 'DT', 'JJ', 'NN', 'MD', 'VB', 'VBN', 'MD', 'VB', 'DT', 'NN', 'IN', 'NN', ',', 'VB', 'PRP', 'CC', 'VB', 'DT', 'NN', 'IN', 'PRP', '.', 'DT', 'NN', 'VBZ', 'CD', 'NNS', 'IN', 'NNS', 'NN', ',', 'JJ', 'NN', ',', 'NN', 'IN', 'NNS', ',', 'VBG', 'NN', 'NNS', ',', 'NN', 'IN', 'NNS', 'CC', 'NNP', 'NN', 'IN', 'NNS', '.', 'DT', 'VBG', 'NN', 'NNS', 'VBZ', 'VBN', 'VBG', 'JJ', 'NNS', 'JJ', 'IN', 'NN', ',', 'NN', ',', 'FW', '.', 'DT', 'VBN', 'NN', 'VBZ', 'VBN', 'TO', 'DT', 'NN', '.', 'DT', 'NN', 'VBZ', 'VBN', 'IN', 'NNS', 'VBN', 'IN', 'NNS', '.', 'NNP', 'NN', 'VBZ', 'VBN', 'IN', 'VBG', 'DT', 'NN', 'NN', '.', 'PRP', 'MD', 'VB', 'DT', 'NN', 'IN', 'NNS', 'CC', 'NN', 'NN', 'TO', 'DT', 'NN', ':', 'DT', 'NNS', 'MD', 'VB', 'VBN', 'IN', 'DT', 'NN', 'NN', 'NN', 'IN', 'DT', 'JJ', 'NN', '.', 'VB', 'DT', 'NN', ',', 'PRP', 'MD', 'VB', 'IN', 'DT', 'JJ', 'NN', 'TO', 'VB', 'DT', 'NNS', 'IN', 'DT', 'NN', 'IN', 'NNS', 'CC', 'NNS', '.', 'NNP', 'VBD', 'CD', 'NNP', 'NNP', 'NNP', ',', 'NNP', 'NNP', ',', 'NNP', 'NNP', 'NNP', ',', 'NNP', 'NNP', ',', 'NNP', 'NNP', ',', 'NNP', 'NNP', 'NNP', 'NNP', 'NNP', 'NNP', 'NNP', ',', 'NNP', 'NNP', 'VBZ', 'CD', 'JJ', 'NNP', 'CD', 'NNP', 'CD', ':', 'NNP', 'CD', 'NN', '.', '$', 'CD', 'NNP', 'NNP', 'NNP', ',', 'NNP', 'NNP', 'NNP', ',', 'NNP', 'NNP', 'IN', 'NNP', 'NNS', ':', 'DT', 'NNP', 'NNP', 'IN', 'NNP', 'NNP', ',', 'CD', 'NNP', 'NNP', 'NNP', 'IN', 'NNP', 'NNP', 'CC', 'NNP', 'NNPS', '.', 'NN', ':', 'JJ', 'NN', 'CD', 'NNP', 'NNP', 'NNP', ',', 'NNP', 'NNP', ',', 'NNP', 'NNP', ',', 'NNP', 'NNP', 'NNP', ',', 'NNP', 'NNP', 'NNP', 'NNP', 'VBG', 'NNP', 'NNP', ',', 'JJ', 'CD', 'NNP', 'NNP', 'NNP', 'IN', 'NNPS', 'IN', 'NNP', 'CC', 'NNP', 'NN', 'NNP', '.', 'NN', ':', 'JJ', 'NN', 'CD', 'NNP', 'NNP', 'NNP', 'CC', 'NNP', 'NNP', 'NNP', ',', 'NNP', 'NNP', ',', 'NNP', 'NNP', 'CC', 'NNP', 'NNP', 'NNP', 'NNP', 'VBD', 'NNP', 'NNP', 'VBG', 'RB', 'NNP', ',', 'JJ', 'CD', 'NNP', 'CD', 'NNP', 'NNP', 'NNP', 'NNP', 'NN', ':', 'JJ', 'NN', 'CD', 'NN', 'NNP', ',', 'NNP', ',', 'NNP', ',', 'NNP', ',', 'NNP', ',', 'NNP', ',', 'NNP', ',', 'NNP', ',', 'NNP', ',', 'NNP', ',', 'NNP', ',', 'NNP', ',', 'NNP', ',', 'NNP', ',', 'NNP', ',', 'NNP', ',', 'NNP', ',', 'NNP', ',', 'NNP', ',', 'NNP', ',', 'FW', 'NN', ',', 'NNP', '(', 'CD', ')', 'NNP', 'VBN', 'IN', 'NN', 'CC', 'NN', 'IN', 'JJ', 'NNS', ',', 'NNP', 'NNP', '.', 'NNP', '.', 'NNP', '.', 'NNP', ',', 'NN', ',', 'CD', 'NN', 'CD', 'NNP', 'NNP', ',', 'NNP', ',', 'NNP', ',', 'NNP', ',', 'NNP', ',', 'NNP', ',', 'NNP', ',', 'NNP', ',', 'NNP', ',', 'NNP', ',', 'NNP', 'NN', ',', 'NNP', ',', 'NNP', ',', 'NNP', ',', 'NNP', ',', 'NNP', ',', 'NNP', ',', 'NNP', ',', 'NNP', ',', 'NNP', 'FW', 'NN', ',', 'NNP', '(', 'CD', ')', 'DT', 'NN', 'VBN', 'IN', 'JJ', 'NN', ',', 'NN', 'NN', 'CC', 'JJ', 'JJ', 'NN', ',', 'JJ', 'NNP', ',', 'NN', ',', 'CD', '.', 'VB', 'CD', 'FW', 'NNP', 'NNP', 'NNP', 'NNP', 'CC', 'NNP', 'NNP', 'NN', 'NNP', ',', 'NNP', 'JJ', 'NN', 'IN', 'JJ', 'NNS', ':', 'JJ', 'NNS', 'IN', 'JJ', 'NN', ',', 'FW', 'VBN', ':', 'CD', 'NNP', 'CD', 'NNP', 'NNP', 'CD', ',', 'CD', ':', 'NNP', '(', 'NN', ')', '.', 'NN', ':', 'JJ', 'NN', 'CD', 'NN', 'NNP', 'NNP', 'NNP', ',', 'NNP', 'NNP', ',', 'VBG', 'NNP', ',', 'NNP', 'NNP', ',', 'NNP', 'NNP', 'NNP', ',', 'NNP', 'NNP', 'NNP', ',', 'NNP', 'NNP', 'NNP', ',', 'NNP', 'NNP', ',', 'NNP', 'NNP', 'NNP', ',', 'NNP', 'NNP', 'NNP', ',', 'NNP', 'NNP', 'NNP', ',', 'NNP', 'NNP', 'NNP', ',', 'NNP', 'NNP', 'NNP', 'CC', 'NNP', 'NNP', 'NNP', ',', 'NNP', 'JJ', 'NN', 'IN', 'NN', 'NNS', ':', 'NN', 'VBZ', 'RB', 'JJ', ',', 'RB', 'IN', 'DT', 'NN', ',', 'FW', 'VBN', ':', 'CD', 'NNP', 'CD', 'NN', ':', 'CD', '.', 'JJ', 'JJ', 'CD', 'JJ', 'NNP', ',', 'NNP', '.', 'CC', 'NNP', ',', 'NNP', ',', 'NNP', 'NNP', 'NNS', 'VB', 'NN', '.', ',', 'FW', '(', 'CD', ')', 'NNP', 'NNP', '.', 'NNP', '.', 'NNP', ',', 'NN', ',', 'CD', '.', 'VB', 'CD', 'NNP', 'NNP', ',', 'NNP', ',', 'NNP', ',', 'NNP', 'CC', 'NNP', ',', 'NNP', ',', 'NNP', 'NNP', 'IN', 'DT', 'NN', 'IN', 'JJ', 'NNS', 'IN', 'NN', ',', 'NNP', 'NNP', 'NNP', ',', 'NN', '.', 'CD', ',', 'DT', '.', 'CD', ',', 'NN', '.', 'CD', ',', 'CD', '.', 'VB', 'CD', 'NNP', 'NN', 'NNP', ',', 'VBZ', 'DT', 'JJ', 'NN', 'NN', ':', 'DT', 'NN', 'NN', 'IN', 'VBG', 'JJ', 'NN', 'VBG', 'NNS', ',', 'NNP', '(', 'CD', ')', 'NNP', ',', 'NN', ',', 'CD', '.', 'VB', 'CD', 'NNP', 'NNP', ',', 'NNP', ',', 'NNP', ',', 'NNP', '.', 'CC', 'NNP', ',', 'NNP', ',', 'NNP', 'NNP', 'IN', 'JJ', 'JJ', 'NN', 'TO', 'VB', 'IN', 'JJ', 'NN', 'NNS', ',', 'NNP', '(', 'CD', ')', 'NNP', 'NNP', ',', 'NN', ',', 'CD', '.', 'VB', 'CD', 'JJ', 'NNP', 'NNP', ',', 'NNP', 'CC', 'NNP', ',', 'NNP', 'NNP', 'NNS', 'CC', 'PRP$', 'NNS', 'IN', 'NN', 'NN', 'NN', 'FW', 'NN', 'NN', 'CC', 'NN', 'NNS', ',', 'NNP', 'NNP', 'NNP', ',', 'CD', ',', 'CD', 'NN', ':', 'JJ', 'NN', 'CD', 'NN', 'NNP', 'NNP', ',', 'NNP', 'NNP', 'NNP', ',', 'NNP', 'NNP', 'NNP', 'CC', 'NNP', 'NNP', 'NNP', ',', 'NNP', 'NNP', 'IN', 'JJ', 'JJ', 'NNS', 'IN', 'NN', ':', 'JJ', 'NNS', 'CC', 'NNS', ',', 'NNP', 'NNP', 'NNP', 'NNP', ',', 'NNP', ',', 'CD', 'NN', ':', 'JJ', 'NN', 'CD', 'NNP', 'NNP', 'NNP', ',', 'NNP', 'NNP', ',', 'NNP', 'IN', 'NN', 'NNP', 'NNP', ',', 'VBZ', 'DT', 'NN', 'IN', 'NNS', 'CC', 'NNS', 'IN', 'JJ', 'NN', ',', 'NNP', 'NNP', 'NNP', 'NNP', 'NNP', 'CD', ',', 'CD', 'NN', ':', 'JJ', 'NN', 'CD', 'NN', 'NNP', 'NNP', ',', 'NNP', 'NNP', ',', 'NNP', 'NNP', ',', 'NNP', 'NNP', 'NN', 'TO', 'VB', 'DT', 'JJ', 'NN', ':', 'RB', 'JJ', 'IN', 'JJ', 'NN', ',', 'NNP', 'NNP', 'NNP', 'CD', ',', 'CD', ':', 'NN', '.', '$', 'CD', 'NNP', 'NNP', ',', 'NNP', 'NNP', ',', 'NNP', 'NNP', 'NNP', 'NNP', 'IN', 'NNP', 'NNP', 'NNP', 'NNP', 'NNP', 'NNP', 'NNP', ',', 'NNP', 'NNP', 'NNP', 'IN', 'NNP', 'NNP', 'NNP', 'VBZ', 'CD', ',', 'NNP', 'CD', '(', 'NNP', 'CD', ')', '.', 'NN', ':', 'JJ', 'CD', '$', 'CD', 'NNP', 'NNP', 'NNP', 'IN', 'NNP', 'NN', 'IN', 'NNP', ',', 'NNP', 'NNP', 'NN', 'IN', 'JJ', 'NN', 'IN', 'NN', 'CC', 'NN', 'NNP', 'VBZ', 'CD', 'NNP', 'NN', '.', '$', 'CD', 'NNP', 'NNP', 'NNP', ',', 'NNP', 'NNP', ',', 'NNP', 'NNP', ',', 'NNP', 'NNP', 'NNP', 'NN', 'CC', 'NNP', ',', 'NNP', 'NNP', 'NNP', 'NNP', 'IN', 'NNP', 'NN', 'NNPS', ':', 'NN', 'CC', 'NNP', 'NNP', 'IN', 'NNP', 'NNP', 'NN', ',', 'NNP', 'NNP', 'NNP', 'NNP', ',', 'NNP', ',', 'CD', '.', 'VB', 'CD', 'NNP', 'NNP', 'NNP', 'NNP', ',', 'NNP', 'NNP', ',', 'NNP', 'NNP', 'IN', 'NNP', 'IN', 'NNP', 'NNP', 'NNP', 'FW', 'NN', ',', 'NNP', 'NNP', 'NNP', 'IN', 'NNP', 'NN', 'NNP', 'NNP', 'NNP', 'FW', 'NN', 'CD', ',', 'NNP', '.', 'CC', 'CD', 'JJ', 'NNP', ',', 'NNP', '.', ':', 'NNP', ',', 'NNP', '.', ':', 'NNP', ',', 'NNP', ':', 'NNP', ',', 'NNP', ':', 'NNP', ',', 'NNP', '.', ':', 'NNP', ',', 'NNP', ':', 'NNP', ',', 'NNP', ':', 'NNP', ',', 'NNP', ':', 'NNP', ',', 'NNP', ':', 'NNP', ',', 'NNP', 'NNP', 'NN', 'CC', 'NN', 'IN', 'DT', 'JJ', 'NN', ',', 'JJ', 'NN', 'CD', ',', 'NN', ',', 'CD', '.']\n"
     ]
    }
   ],
   "source": [
    "import nltk\n",
    "from nltk import word_tokenize\n",
    "\n",
    "# Download the necessary NLTK data files (only needed once)\n",
    "nltk.download('punkt')\n",
    "nltk.download('averaged_perceptron_tagger')\n",
    "\n",
    "def extract_features(sentences):\n",
    "    # Tokenize the sentences into words\n",
    "    words = word_tokenize(\" \".join(sentences))\n",
    "    \n",
    "    # Perform POS tagging\n",
    "    pos_tags = nltk.pos_tag(words)\n",
    "    \n",
    "    # Extract only the POS tags (you can modify this if you need more information)\n",
    "    pos_only = [tag for word, tag in pos_tags]\n",
    "    \n",
    "    # Further feature extraction like TF-IDF or word embeddings can be done here\n",
    "    return pos_only\n",
    "\n",
    "# Example usage\n",
    "# sentences = [\"This is a sentence.\", \"Here is another one.\"]\n",
    "features = extract_features(sentences)\n",
    "print(features)\n"
   ]
  },
  {
   "cell_type": "code",
   "execution_count": 20,
   "id": "65ccd54b-f564-4572-a9dd-6644af478756",
   "metadata": {},
   "outputs": [
    {
     "name": "stderr",
     "output_type": "stream",
     "text": [
      "[nltk_data] Downloading package punkt to\n",
      "[nltk_data]     C:\\Users\\visut\\AppData\\Roaming\\nltk_data...\n",
      "[nltk_data]   Package punkt is already up-to-date!\n",
      "[nltk_data] Downloading package averaged_perceptron_tagger to\n",
      "[nltk_data]     C:\\Users\\visut\\AppData\\Roaming\\nltk_data...\n",
      "[nltk_data]   Package averaged_perceptron_tagger is already up-to-\n",
      "[nltk_data]       date!\n"
     ]
    },
    {
     "name": "stdout",
     "output_type": "stream",
     "text": [
      "['NNP', 'CC', 'NNP', 'VBN', 'NNP', 'NNP', 'NNP', 'NNP', 'NNP', 'NNP', '.', 'NNP', ',', 'NNP', 'NNP', 'NNP', ',', 'NNP', 'VBD', 'NNP', 'NN', 'NNP', 'NNP', 'NNP', '.', 'NNP', ',', 'NNP', 'NNP', 'NNP', ',', 'NNP', 'NNP', 'NNP', 'VBD', 'NNP', 'NNP', 'NNP', '.', 'NNP', ',', 'NNP', 'NNP', 'NNP', ',', 'NNP', 'NN', 'NNP', 'NN', 'NNP', 'NNP', 'NNP', 'NNP', 'NNP', 'IN', 'JJ', 'NN', 'IN', 'NN', 'IN', 'JJ', 'JJ', 'NN', 'VBZ', 'DT', 'RB', 'JJ', 'NN', '.', 'NNP', 'VBG', 'NNS', 'MD', 'VB', 'VBN', 'IN', 'JJ', 'NNS', '.', 'JJ', 'NNS', 'VBP', 'VBN', 'IN', 'DT', 'NN', '.', 'RB', ',', 'JJ', 'JJ', 'NNS', 'MD', 'VB', 'VBN', 'NN', 'IN', 'NN', 'CC', 'NN', '.', 'RB', ',', 'VBN', 'IN', '(', 'NN', ')', 'NN', 'VBP', 'VBN', 'IN', 'JJ', 'CC', 'JJ', 'JJ', 'NNS', ',', '(', 'NN', ')', 'DT', 'JJ', 'NN', 'IN', 'NN', 'TO', 'JJ', 'NNS', 'VBZ', 'RB', 'JJ', ',', 'CC', '(', 'NN', ')', 'JJ', 'NN', 'NNS', ',', 'IN', 'NN', ',', 'NN', 'IN', 'RB', 'DT', 'JJ', 'NN', 'IN', 'NN', 'NN', ',', 'NN', 'IN', 'NN', 'VBG', 'NNS', 'VBZ', 'JJ', 'RB', 'CD', 'NN', '.', 'JJ', 'NN', 'VBZ', 'VBN', 'VBN', 'IN', 'JJ', 'NN', '(', 'IN', 'NN', ')', 'WDT', 'VBP', 'NN', 'VBG', 'NNS', '.', 'DT', 'NNS', 'IN', 'NN', 'NN', 'VBP', 'VBN', 'VBN', '.', 'PRP', 'VBP', 'VBN', 'DT', 'JJ', 'NN', 'IN', 'NN', 'NN', ',', 'NNS', 'VBD', 'IN', 'NN', 'CC', 'NNS', 'VBN', 'NN', '.', 'NNP', 'NN', 'IN', 'DT', 'NN', 'IN', 'NNS', 'CC', 'NNS', 'VBZ', 'RB', 'VBN', 'DT', 'JJ', 'NN', '.', 'DT', 'JJ', 'NNS', 'IN', 'JJ', 'NN', 'IN', 'DT', 'NNS', 'VBD', 'NN', 'JJ', 'NN', 'CC', 'JJ', '.', 'RB', 'NN', 'NN', 'MD', 'VB', 'VBN', 'TO', 'VB', 'DT', 'NNS', 'CC', 'VB', 'DT', 'NNS', 'RB', '.', 'NNP', 'JJ', 'NN', 'NNS', 'VBD', 'CC', 'JJ', 'NN', 'NNS', 'CC', 'RB', 'VBZ', 'IN', 'JJ', 'NN', 'IN', 'NNS', 'VBP', 'CD', 'NNP', '.', 'JJS', 'IN', 'DT', 'NN', 'NN', 'NNS', 'VBP', 'NNS', 'NN', 'CC', 'JJ', 'NN', 'VBG', 'NNS', '$', 'CD', 'NNP', '.', 'NNP', 'NNP', 'NNP', ',', 'NNP', 'NNP', 'NNP', '(', 'NNP', ')', ',', 'NNP', 'NN', '(', 'NNP', ')', ',', 'IN', 'IN', 'JJ', 'NNS', 'VBG', 'DT', 'NN', 'IN', 'DT', 'IN', 'DT', 'NNS', 'VBP', 'VBN', '.', 'NNP', 'NN', '(', 'NNP', ')', 'CC', 'JJ', 'NN', '(', 'NNP', ')', 'VBP', 'JJ', 'NNS', 'WDT', 'VBP', 'DT', 'JJ', 'NN', '.', 'DT', 'NN', 'VBZ', 'DT', 'JJ', 'NN', 'NN', 'CC', 'VBZ', 'PDT', 'DT', 'JJ', 'JJ', 'NN', '.', 'DT', 'NN', 'VBZ', 'VBN', 'IN', 'JJ', 'VBG', 'JJ', 'NN', 'NNP', 'NNP', 'NNP', ',', 'NN', 'NNP', 'NNP', 'NNP', ',', 'NN', 'VBD', 'NNP', 'NNP', 'CC', 'VB', 'NNP', 'NNP', 'NNP', '.', 'NNP', 'VBZ', 'IN', 'VBG', ',', 'VBG', 'CC', 'VBG', 'NN', 'IN', 'DT', 'NN', 'NN', '.', 'NNP', ',', 'IN', 'VBG', 'RB', 'VBN', 'IN', 'NN', 'NN', 'IN', 'JJ', 'NNS', ',', 'VBZ', 'RB', 'JJ', 'IN', 'NN', 'NN', 'RB', 'IN', 'NNP', 'NNP', 'CD', 'NNP', '.', 'RB', 'NNS', 'IN', 'NNP', 'NNP', 'NNP', '(', 'NNP', ')', ',', 'NNP', 'JJ', 'NNP', 'NNP', '(', 'NNP', ')', ',', 'NNP', 'NNP', 'NN', 'NNP', '(', 'NNP', ')', ',', 'NNP', 'NNP', 'NNP', ',', 'FW', 'VBP', 'PRP$', 'JJ', 'NNS', 'CC', 'NNS', '.', 'RB', 'JJ', 'NN', 'IN', 'NNS', 'MD', 'VB', 'VBN', '.', 'DT', 'NN', 'VBZ', 'DT', 'JJ', 'NN', 'IN', 'DT', 'JJ', 'NN', '(', 'NN', ')', '.', 'PRP', 'RB', 'VBZ', 'TO', 'PDT', 'DT', 'JJ', 'NNS', 'IN', 'NN', 'NN', 'WDT', 'VBP', 'VBN', 'IN', 'DT', 'NN', 'NN', 'CD', 'NN', '.', 'NN', 'MD', 'VB', 'NN', 'CC', 'NN', 'IN', 'NNS', '.', 'RB', 'NNP', 'NN', 'VBZ', 'VBN', 'TO', 'VB', 'CC', 'VB', 'DT', 'JJ', 'NN', 'VBN', 'NNP', 'NN', 'NN', 'VBD', 'CD', 'NN', '.', 'DT', 'VBG', 'NNS', 'VBG', 'IN', 'JJ', 'JJ', 'NNS', 'VBP', 'JJ', 'CC', 'JJ', 'NNS', '.', 'JJ', 'JJ', 'NNS', 'VBP', 'JJ', 'NN', ',', 'NN', 'CC', 'JJ', 'NN', 'CC', 'JJ', 'NNS', 'VBP', 'NNP', 'NNS', ',', 'NN', 'NNS', ',', 'CC', 'JJ', 'NNP', 'NNS', '.', 'DT', 'NN', 'IN', 'NN', 'NN', 'NNS', 'CC', 'PRP$', 'NN', 'VBZ', 'DT', 'NN', 'TO', 'DT', 'JJ', 'NNS', 'NN', '.', 'NNP', 'JJ', 'NN', ',', 'NNP', 'NN', 'CC', 'NN', 'NN', 'VBP', 'DT', 'JJ', 'JJ', 'NNS', 'WDT', 'VBP', 'VBN', 'JJ', 'NN', 'IN', 'JJ', 'NN', '.', 'VBG', 'JJ', 'CC', 'JJ', 'NN', 'IN', 'DT', 'JJ', 'NN', 'IN', 'NN', 'NNS', 'VBP', 'DT', 'JJ', 'NNS', 'IN', 'JJ', 'NNS', '.', 'IN', 'VBG', 'JJ', 'JJ', 'NN', ',', 'JJ', 'NN', 'IN', 'JJ', 'NN', 'MD', 'VB', 'DT', 'JJ', 'NN', 'IN', 'JJ', 'NNS', 'IN', 'JJ', 'NNS', 'WDT', 'MD', 'VB', 'JJ', 'NN', '.', 'PRP', 'VBZ', 'JJ', 'TO', 'VB', 'DT', 'JJ', 'NNS', 'WDT', 'VBP', 'JJ', 'JJ', 'NNS', '.', 'DT', 'JJ', 'NN', 'IN', 'NNS', 'MD', 'RB', 'VB', 'RB', 'JJ', 'JJ', 'NN', 'IN', 'JJ', 'NN', 'NNS', 'IN', 'DT', 'NNS', 'VBP', 'DT', 'NN', 'NNS', '.', 'NNP', 'NNS', 'IN', 'NN', 'CC', 'NN', 'CC', 'NN', 'NNS', 'NNS', 'VBN', 'IN', 'JJ', 'NN', 'VBD', 'CD', 'NNP', 'VBD', 'CD', 'NNP', '.', 'JJS', 'NNS', 'VBP', 'VBN', 'IN', 'DT', 'NN', 'IN', 'NNS', '.', 'NNP', 'TO', 'NN', 'NN', 'VBP', 'DT', 'NN', 'IN', 'DT', 'NNS', '.', 'DT', 'JJ', 'NNS', 'IN', 'DT', 'NN', 'MD', 'VB', 'VBN', 'IN', 'VBG', 'JJ', 'NNS', 'IN', 'JJ', 'NNS', '.', 'RB', 'NN', 'MD', 'VB', 'VBN', 'IN', 'NN', 'IN', 'NN', '.', 'NNP', 'MD', 'VB', 'VBN', 'IN', 'VBG', 'DT', 'NN', 'VBG', 'NNS', 'JJ', 'IN', 'NNP', '.', 'NNP', 'NNS', 'VBP', 'VBN', 'IN', 'PDT', 'DT', 'NN', 'VBG', 'NNS', 'CC', 'DT', 'NN', '(', 'VBN', 'IN', 'NN', ')', 'IN', 'DT', 'NN', 'VBZ', 'VBN', '.', 'DT', 'NN', 'VBZ', 'VBN', 'IN', 'VBG', 'JJ', 'NNS', 'CC', 'VBG', 'RB', 'DT', 'NNS', 'WDT', 'VBP', 'DT', 'JJ', 'NN', '$', 'CD', 'NNP', '.', 'NNP', 'CC', 'NN', 'IN', 'JJ', 'NN', 'IN', 'DT', 'JJ', 'NN', 'VBZ', 'RB', 'JJ', '.', 'IN', 'DT', 'NN', ',', 'NN', 'IN', 'JJ', 'NN', 'NNS', 'VBG', 'NNS', 'CC', 'NNS', 'VBZ', 'RB', 'RB', 'JJ', 'JJ', '.', 'JJ', 'NN', 'VBZ', 'VBN', 'VBN', 'TO', 'VB', 'DT', 'NN', 'JJ', 'TO', 'JJ', 'NNS', '(', 'JJ', ',', 'NN', ',', 'NNP', ',', 'NN', ')', '.', 'NN', 'IN', 'NN', 'TO', 'DT', 'NN', 'VBZ', 'RBS', 'NN', 'IN', 'NNS', 'IN', 'JJ', 'NNS', 'IN', 'DT', 'NN', ',', 'CC', 'DT', 'NN', 'VBZ', 'RB', 'JJ', 'CC', 'NN', 'IN', 'DT', 'NN', 'VBZ', 'RB', 'JJ', '.', 'JJ', 'NNS', 'MD', 'VB', 'VBN', 'IN', 'DT', 'NN', 'IN', 'DT', 'NN', 'IN', 'JJ', 'JJ', 'NNS', '(', 'VBN', 'VBG', 'NNS', '$', 'CD', 'NN', ')', '.', 'IN', 'DT', 'JJ', 'NN', 'NN', ',', 'DT', 'JJ', 'NN', 'NN', 'VBZ', 'JJ', 'JJ', 'JJ', 'JJ', 'NNS', 'VBP', 'CD', 'NN', '.', 'IN', 'VBG', 'DT', 'NN', 'NNS', 'PRP', 'VBP', 'DT', 'NN', 'VBG', 'NNS', 'CC', 'NNS', 'VBZ', 'JJ', 'CC', 'JJ', 'NN', 'RB', 'NN', '.', 'NNP', 'NN', 'VBZ', 'JJ', 'TO', 'VB', 'JJ', 'NN', 'NN', 'NNS', '.', 'CC', 'VBG', 'DT', 'NN', 'IN', 'WDT', 'NN', 'VBZ', 'VBG', 'IN', ',', 'NN', 'VBG', 'JJ', 'NNS', 'VBP', 'VBG', 'VBN', ',', 'NN', 'IN', 'NNS', 'VBG', 'JJ', 'NNS', ',', 'FW', '.', 'DT', 'NN', 'IN', 'JJ', 'NNS', 'VBZ', 'VBN', 'TO', 'VB', 'IN', 'DT', 'JJ', 'NN', '.', 'NNP', '.', 'NNP', 'NNP', 'NNP', 'NNP', 'NNP', 'NNP', 'NN', 'VBN', 'NNS', 'CC', 'JJ', 'NN', 'VBZ', 'CD', 'IN', 'DT', 'RBS', 'JJ', 'CC', 'JJ', 'NN', '.', 'DT', 'NN', 'IN', 'NNS', 'CC', 'RB', 'JJ', 'NNS', 'VBZ', 'VBN', 'DT', 'NN', 'TO', 'VB', 'RP', 'DT', 'NN', 'CC', 'JJ', 'NN', 'NN', '.', 'DT', 'JJ', 'NN', 'VBZ', 'TO', 'VB', 'DT', 'NN', 'VBZ', 'CC', 'NN', 'NNS', 'IN', 'DT', 'JJ', 'NNS', 'VBG', 'DT', 'NN', 'NN', 'TO', 'RB', 'VB', 'DT', 'NN', '.', 'CD', '.', 'VBG', 'NNP', 'NNP', 'CC', 'NNP', 'WRB', 'DT', 'JJ', 'VBZ', 'PRP$', 'CC', 'PRP$', 'NN', ',', 'PRP', 'VBP', 'IN', 'DT', 'NN', 'IN', 'NN', 'TO', 'VB', 'PRP$', 'NN', ':', 'JJ', 'NNS', 'CC', 'NNS', ',', 'NN', 'NNS', ',', 'JJ', 'NNS', ',', 'FW', '.', 'DT', 'NNS', 'RB', 'VBP', 'VBN', 'IN', 'JJ', 'NN', 'NNS', ',', 'JJ', 'IN', 'NNP', '.', 'EX', 'MD', 'VB', 'JJ', 'NNS', ',', 'JJ', 'CC', 'JJ', 'NNS', 'IN', 'DT', 'NN', 'VBZ', 'RB', 'VBN', '.', 'RB', 'VBZ', 'EX', 'DT', 'JJ', 'NN', 'NN', '.', 'DT', 'NN', 'IN', 'JJ', 'VBZ', 'IN', 'WP', 'DT', 'NN', 'VBZ', 'TO', 'VB', 'CC', 'WP', 'JJ', 'NNS', 'CC', 'NNS', 'MD', 'RB', 'VB', 'PRP', 'IN', 'DT', 'NN', '.', 'DT', 'NN', 'IN', 'JJ', 'JJ', 'NNS', 'IN', 'JJ', 'NNS', 'CC', 'NN', 'NN', 'MD', 'VB', 'VBN', '.', 'RB', ',', 'VBN', 'IN', '(', 'NN', ')', 'JJ', 'NNS', 'VBP', 'IN', 'DT', 'JJ', 'NN', 'IN', 'JJ', 'CC', 'JJ', 'NNS', ',', '(', 'NN', ')', 'DT', 'JJ', 'JJ', 'NNS', 'IN', 'NN', 'TO', 'JJ', 'NNS', 'VBP', 'RB', 'JJ', ',', 'CC', '(', 'NN', ')', 'JJ', 'NN', 'NNS', ',', 'IN', 'NN', ',', 'NN', 'IN', 'RB', 'DT', 'JJ', 'NN', 'IN', 'NN', 'NN', ',', 'EX', 'VBP', 'JJ', 'NNS', 'TO', 'VBG', 'CC', 'VBG', 'JJ', 'NN', 'NN', 'NNS', 'IN', 'JJ', 'NN', '.', 'IN', 'NN', 'IN', 'DT', 'NNS', ',', 'VBD', 'NN', 'VBZ', 'VBN', 'IN', 'DT', 'NN', 'IN', 'DT', 'JJ', 'NN', 'IN', 'NNS', 'WDT', 'VBP', 'NN', 'VBG', 'NNS', '.', 'NNP', 'NNS', 'IN', 'NN', 'RB', 'VB', 'DT', 'NN', 'IN', 'DT', 'JJ', 'NN', 'IN', 'JJ', ',', 'JJ', 'NNS', 'VBP', 'JJ', 'NNS', '.', 'NN', 'MD', 'VB', 'NNS', 'CC', 'MD', 'RB', 'VB', 'DT', 'NN', 'NNS', 'IN', 'DT', 'NNS', 'VBN', 'IN', 'NN', 'IN', 'CD', 'NN', '.', 'PRP', 'VBZ', 'TO', 'VB', 'DT', 'JJ', 'NNS', 'IN', 'DT', 'NNS', '.', 'VBG', 'NN', 'VBZ', 'RB', 'VBN', 'NNS', '.', 'DT', 'NN', 'NN', 'VBP', 'JJ', 'CC', 'JJ', '.', 'NNP', ',', 'DT', 'NN', 'NNS', 'VBP', 'JJ', 'RB', 'JJ', 'NNS', 'MD', 'VB', 'IN', 'TO', 'JJ', 'NN', 'NNS', '.', 'CC', 'RB', ',', 'WRB', 'PRP', 'VBZ', 'TO', 'NNS', ',', 'PRP', 'VBZ', 'RB', 'JJR', '.', 'NNP', ',', 'DT', 'NN', 'NNS', 'VBP', 'JJ', 'CC', 'VB', 'RB', 'RB', '.', 'CC', 'IN', ',', 'DT', 'NN', 'MD', 'VB', 'DT', 'JJ', 'NN', 'CC', 'MD', 'RB', 'VB', 'DT', 'NNS', 'IN', 'DT', 'NNS', 'CC', 'NNS', 'VBN', 'IN', 'DT', 'NN', 'IN', 'CD', 'NN', '.', 'JJ', 'NN', 'NNS', 'MD', 'RB', 'VB', 'JJ', 'NN', 'IN', 'JJ', 'NNS', 'RB', '.', 'JJ', 'NN', 'VBZ', 'IN', 'PRP', 'MD', 'VB', 'DT', 'NN', 'IN', 'NN', 'JJ', 'JJ', 'NN', 'NNS', '.', 'IN', 'DT', 'NN', 'IN', 'DT', 'NN', 'IN', 'NNS', 'VBG', 'IN', 'JJ', 'CC', 'JJ', 'NN', 'NNS', 'VBZ', 'RP', 'DT', 'JJ', 'NN', ',', 'NNS', 'RB', 'RB', 'VBD', 'IN', 'JJ', 'NNS', 'VBP', 'JJ', 'NN', 'RB', 'VB', 'DT', 'NN', 'IN', 'NN', 'CD', 'NNS', 'CC', 'NN', 'NN', ',', 'RB', 'RB', 'DT', 'NN', 'IN', 'NNS', 'VBN', 'VBD', 'JJ', '.', 'CD', '.', 'NNS', 'VBG', 'IN', 'NNP', 'NNP', 'NNP', 'NNP', 'VBZ', 'DT', 'NN', 'IN', 'DT', 'RBS', 'JJ', 'CC', 'JJ', 'NN', 'IN', 'NN', 'IN', 'DT', 'NN', 'IN', 'VBG', 'JJ', 'NNS', 'IN', 'JJ', 'NNS', 'NNS', '.', 'DT', 'NN', 'IN', 'NNS', 'NN', 'NNS', 'VBP', 'TO', 'VB', 'NN', 'TO', 'VB', 'NN', 'IN', 'VBG', 'DT', 'NNS', 'VBG', 'JJ', 'NN', 'IN', 'NNS', 'CC', 'JJ', 'NNS', 'IN', 'DT', 'NN', 'WDT', 'VBZ', 'NN', 'VBZ', 'PRP', 'JJ', 'NNS', '.', 'JJ', 'NNS', 'VBP', 'VBN', 'TO', 'VB', 'DT', 'JJ', 'NNS', 'WDT', 'VBP', 'JJ', 'IN', 'NNS', '.', 'PRP', 'VBP', 'VBG', 'DT', 'NNP', 'NN', 'TO', 'VB', 'PRP$', 'NN', '.', 'PRP', 'VBZ', 'DT', 'JJ', 'NN', 'NN', '.', 'PRP', 'VBZ', 'NN', 'NNS', 'IN', 'NN', 'NNS', 'CC', 'VBZ', 'PRP', 'IN', 'DT', 'NN', 'NN', '.', 'DT', 'NN', 'VBZ', 'VBN', 'IN', 'JJ', 'VBG', 'NN', '.', 'DT', 'NNP', 'VBZ', 'DT', 'JJ', 'NN', 'CC', 'JJ', 'JJ', 'NNS', 'IN', 'JJ', 'JJ', 'NN', 'JJ', 'IN', 'NN', '.', 'TO', 'VB', 'DT', 'NN', 'IN', 'NNS', 'NNS', ',', 'NNP', 'VBZ', 'DT', 'JJ', 'NN', 'IN', 'JJ', 'NN', 'NN', '.', 'TO', 'VB', 'DT', 'NN', 'JJR', ',', 'JJ', 'NNP', 'JJ', 'NN', 'VBZ', 'VBN', 'IN', 'JJ', 'JJR', 'JJ', 'NN', '.', 'IN', 'JJ', 'NN', 'IN', 'NN', 'NNS', ',', 'NNS', 'NNS', 'VBP', 'VBN', '.', 'VB', 'DT', 'NNP', 'VBZ', 'IN', 'DT', 'NN', 'WDT', 'VBZ', 'NNS', 'VBP', 'VBN', 'VBG', 'NN', 'NN', 'WDT', 'VBZ', 'VBN', 'IN', 'NN', 'IN', 'NN', 'NNS', '.', 'NNP', 'VBZ', 'CD', 'IN', 'DT', 'NNS', 'WDT', 'VBP', 'VBN', 'IN', 'NN', 'IN', 'JJ', 'NN', 'IN', 'NN', '.', 'NNP', 'VBD', 'NNP', 'NNP', 'NNP', 'NNP', '(', 'NNP', ')', 'NN', 'IN', 'VBG', 'NN', 'NN', '.', 'CD', '.', 'VBG', 'NN', 'NNPS', 'PRP$', 'NN', 'MD', 'VB', 'IN', 'JJ', 'NN', '.', 'VBG', 'NNS', 'RB', 'RB', 'IN', 'VBG', 'JJ', 'JJ', 'NN', 'NNS', '.', 'RB', 'JJ', 'IN', 'DT', 'IN', 'JJ', 'NN', '.', 'NNP', 'NN', 'VBN', '(', 'DT', 'VBN', 'CC', 'JJ', 'NN', ')', '.', 'IN', 'NN', ',', 'DT', 'NN', 'MD', 'VB', 'DT', 'NN', 'IN', 'DT', 'JJ', 'NN', 'NN', '.', 'DT', 'NN', '(', 'NN', ')', 'MD', 'VB', 'NN', 'IN', 'VBG', 'DT', 'NN', 'VBN', 'IN', 'DT', 'JJ', 'NN', 'CC', 'NNS', '.', 'IN', 'PRP', 'VBP', 'RP', 'TO', 'VB', 'JJ', 'RB', ',', 'PRP', 'MD', 'VB', 'VBN', 'IN', 'NN', 'CC', 'NN', 'JJ', 'NN', 'NN', '.', 'JJ', 'NNS', 'MD', 'VB', 'NN', 'NN', 'IN', 'JJ', 'NN', 'NNS', 'WRB', 'PRP', 'VBP', 'VBN', 'IN', 'JJ', 'NNS', 'CC', 'IN', 'NNS', 'IN', 'JJ', 'JJ', 'NNS', '.', 'NNP', 'RB', 'VBP', 'NNS', 'MD', 'VB', 'RBR', 'JJ', 'IN', 'DT', 'JJ', 'NNS', 'IN', 'IN', 'NNS', '.', 'NNP', '.', 'NNP', 'NNP', 'NNP', 'PRP', 'VBP', 'VBN', 'TO', 'VB', 'DT', 'NN', 'WDT', 'VBZ', 'VBN', 'IN', 'DT', 'JJ', 'NN', 'CC', 'MD', 'VB', 'DT', 'NN', 'NNS', 'CC', 'DT', 'NN', 'NN', 'IN', 'PRP$', 'NN', '.', 'DT', 'NN', 'VBZ', 'JJ', 'NN', 'IN', 'DT', 'NN', 'VBG', 'NN', '.', 'DT', 'NN', 'MD', 'VB', 'VBG', 'DT', 'JJ', 'NN', 'NN', 'IN', 'PRP', 'MD', 'VB', 'TO', 'VB', 'DT', 'JJ', 'NN', 'RB', '.', 'RB', ',', 'DT', 'NN', 'MD', 'VB', 'RB', 'CC', 'DT', 'JJ', 'NN', 'MD', 'VB', 'VBN', 'MD', 'VB', 'DT', 'NN', 'IN', 'NN', ',', 'VB', 'PRP', 'CC', 'VB', 'DT', 'NN', 'IN', 'PRP', '.', 'DT', 'NN', 'VBZ', 'CD', 'NNS', 'IN', 'NNS', 'NN', ',', 'JJ', 'NN', ',', 'NN', 'IN', 'NNS', ',', 'VBG', 'NN', 'NNS', ',', 'NN', 'IN', 'NNS', 'CC', 'NNP', 'NN', 'IN', 'NNS', '.', 'DT', 'VBG', 'NN', 'NNS', 'VBZ', 'VBN', 'VBG', 'JJ', 'NNS', 'JJ', 'IN', 'NN', ',', 'NN', ',', 'FW', '.', 'DT', 'VBN', 'NN', 'VBZ', 'VBN', 'TO', 'DT', 'NN', '.', 'DT', 'NN', 'VBZ', 'VBN', 'IN', 'NNS', 'VBN', 'IN', 'NNS', '.', 'NNP', 'NN', 'VBZ', 'VBN', 'IN', 'VBG', 'DT', 'NN', 'NN', '.', 'PRP', 'MD', 'VB', 'DT', 'NN', 'IN', 'NNS', 'CC', 'NN', 'NN', 'TO', 'DT', 'NN', ':', 'DT', 'NNS', 'MD', 'VB', 'VBN', 'IN', 'DT', 'NN', 'NN', 'NN', 'IN', 'DT', 'JJ', 'NN', '.', 'VB', 'DT', 'NN', ',', 'PRP', 'MD', 'VB', 'IN', 'DT', 'JJ', 'NN', 'TO', 'VB', 'DT', 'NNS', 'IN', 'DT', 'NN', 'IN', 'NNS', 'CC', 'NNS', '.', 'NNP', 'VBD', 'CD', 'NNP', 'NNP', 'NNP', ',', 'NNP', 'NNP', ',', 'NNP', 'NNP', 'NNP', ',', 'NNP', 'NNP', ',', 'NNP', 'NNP', ',', 'NNP', 'NNP', 'NNP', 'NNP', 'NNP', 'NNP', 'NNP', ',', 'NNP', 'NNP', 'VBZ', 'CD', 'JJ', 'NNP', 'CD', 'NNP', 'CD', ':', 'NNP', 'CD', 'NN', '.', '$', 'CD', 'NNP', 'NNP', 'NNP', ',', 'NNP', 'NNP', 'NNP', ',', 'NNP', 'NNP', 'IN', 'NNP', 'NNS', ':', 'DT', 'NNP', 'NNP', 'IN', 'NNP', 'NNP', ',', 'CD', 'NNP', 'NNP', 'NNP', 'IN', 'NNP', 'NNP', 'CC', 'NNP', 'NNPS', '.', 'NN', ':', 'JJ', 'NN', 'CD', 'NNP', 'NNP', 'NNP', ',', 'NNP', 'NNP', ',', 'NNP', 'NNP', ',', 'NNP', 'NNP', 'NNP', ',', 'NNP', 'NNP', 'NNP', 'NNP', 'VBG', 'NNP', 'NNP', ',', 'JJ', 'CD', 'NNP', 'NNP', 'NNP', 'IN', 'NNPS', 'IN', 'NNP', 'CC', 'NNP', 'NN', 'NNP', '.', 'NN', ':', 'JJ', 'NN', 'CD', 'NNP', 'NNP', 'NNP', 'CC', 'NNP', 'NNP', 'NNP', ',', 'NNP', 'NNP', ',', 'NNP', 'NNP', 'CC', 'NNP', 'NNP', 'NNP', 'NNP', 'VBD', 'NNP', 'NNP', 'VBG', 'RB', 'NNP', ',', 'JJ', 'CD', 'NNP', 'CD', 'NNP', 'NNP', 'NNP', 'NNP', 'NN', ':', 'JJ', 'NN', 'CD', 'NN', 'NNP', ',', 'NNP', ',', 'NNP', ',', 'NNP', ',', 'NNP', ',', 'NNP', ',', 'NNP', ',', 'NNP', ',', 'NNP', ',', 'NNP', ',', 'NNP', ',', 'NNP', ',', 'NNP', ',', 'NNP', ',', 'NNP', ',', 'NNP', ',', 'NNP', ',', 'NNP', ',', 'NNP', ',', 'NNP', ',', 'FW', 'NN', ',', 'NNP', '(', 'CD', ')', 'NNP', 'VBN', 'IN', 'NN', 'CC', 'NN', 'IN', 'JJ', 'NNS', ',', 'NNP', 'NNP', '.', 'NNP', '.', 'NNP', '.', 'NNP', ',', 'NN', ',', 'CD', 'NN', 'CD', 'NNP', 'NNP', ',', 'NNP', ',', 'NNP', ',', 'NNP', ',', 'NNP', ',', 'NNP', ',', 'NNP', ',', 'NNP', ',', 'NNP', ',', 'NNP', ',', 'NNP', 'NN', ',', 'NNP', ',', 'NNP', ',', 'NNP', ',', 'NNP', ',', 'NNP', ',', 'NNP', ',', 'NNP', ',', 'NNP', ',', 'NNP', 'FW', 'NN', ',', 'NNP', '(', 'CD', ')', 'DT', 'NN', 'VBN', 'IN', 'JJ', 'NN', ',', 'NN', 'NN', 'CC', 'JJ', 'JJ', 'NN', ',', 'JJ', 'NNP', ',', 'NN', ',', 'CD', '.', 'VB', 'CD', 'FW', 'NNP', 'NNP', 'NNP', 'NNP', 'CC', 'NNP', 'NNP', 'NN', 'NNP', ',', 'NNP', 'JJ', 'NN', 'IN', 'JJ', 'NNS', ':', 'JJ', 'NNS', 'IN', 'JJ', 'NN', ',', 'FW', 'VBN', ':', 'CD', 'NNP', 'CD', 'NNP', 'NNP', 'CD', ',', 'CD', ':', 'NNP', '(', 'NN', ')', '.', 'NN', ':', 'JJ', 'NN', 'CD', 'NN', 'NNP', 'NNP', 'NNP', ',', 'NNP', 'NNP', ',', 'VBG', 'NNP', ',', 'NNP', 'NNP', ',', 'NNP', 'NNP', 'NNP', ',', 'NNP', 'NNP', 'NNP', ',', 'NNP', 'NNP', 'NNP', ',', 'NNP', 'NNP', ',', 'NNP', 'NNP', 'NNP', ',', 'NNP', 'NNP', 'NNP', ',', 'NNP', 'NNP', 'NNP', ',', 'NNP', 'NNP', 'NNP', ',', 'NNP', 'NNP', 'NNP', 'CC', 'NNP', 'NNP', 'NNP', ',', 'NNP', 'JJ', 'NN', 'IN', 'NN', 'NNS', ':', 'NN', 'VBZ', 'RB', 'JJ', ',', 'RB', 'IN', 'DT', 'NN', ',', 'FW', 'VBN', ':', 'CD', 'NNP', 'CD', 'NN', ':', 'CD', '.', 'JJ', 'JJ', 'CD', 'JJ', 'NNP', ',', 'NNP', '.', 'CC', 'NNP', ',', 'NNP', ',', 'NNP', 'NNP', 'NNS', 'VB', 'NN', '.', ',', 'FW', '(', 'CD', ')', 'NNP', 'NNP', '.', 'NNP', '.', 'NNP', ',', 'NN', ',', 'CD', '.', 'VB', 'CD', 'NNP', 'NNP', ',', 'NNP', ',', 'NNP', ',', 'NNP', 'CC', 'NNP', ',', 'NNP', ',', 'NNP', 'NNP', 'IN', 'DT', 'NN', 'IN', 'JJ', 'NNS', 'IN', 'NN', ',', 'NNP', 'NNP', 'NNP', ',', 'NN', '.', 'CD', ',', 'DT', '.', 'CD', ',', 'NN', '.', 'CD', ',', 'CD', '.', 'VB', 'CD', 'NNP', 'NN', 'NNP', ',', 'VBZ', 'DT', 'JJ', 'NN', 'NN', ':', 'DT', 'NN', 'NN', 'IN', 'VBG', 'JJ', 'NN', 'VBG', 'NNS', ',', 'NNP', '(', 'CD', ')', 'NNP', ',', 'NN', ',', 'CD', '.', 'VB', 'CD', 'NNP', 'NNP', ',', 'NNP', ',', 'NNP', ',', 'NNP', '.', 'CC', 'NNP', ',', 'NNP', ',', 'NNP', 'NNP', 'IN', 'JJ', 'JJ', 'NN', 'TO', 'VB', 'IN', 'JJ', 'NN', 'NNS', ',', 'NNP', '(', 'CD', ')', 'NNP', 'NNP', ',', 'NN', ',', 'CD', '.', 'VB', 'CD', 'JJ', 'NNP', 'NNP', ',', 'NNP', 'CC', 'NNP', ',', 'NNP', 'NNP', 'NNS', 'CC', 'PRP$', 'NNS', 'IN', 'NN', 'NN', 'NN', 'FW', 'NN', 'NN', 'CC', 'NN', 'NNS', ',', 'NNP', 'NNP', 'NNP', ',', 'CD', ',', 'CD', 'NN', ':', 'JJ', 'NN', 'CD', 'NN', 'NNP', 'NNP', ',', 'NNP', 'NNP', 'NNP', ',', 'NNP', 'NNP', 'NNP', 'CC', 'NNP', 'NNP', 'NNP', ',', 'NNP', 'NNP', 'IN', 'JJ', 'JJ', 'NNS', 'IN', 'NN', ':', 'JJ', 'NNS', 'CC', 'NNS', ',', 'NNP', 'NNP', 'NNP', 'NNP', ',', 'NNP', ',', 'CD', 'NN', ':', 'JJ', 'NN', 'CD', 'NNP', 'NNP', 'NNP', ',', 'NNP', 'NNP', ',', 'NNP', 'IN', 'NN', 'NNP', 'NNP', ',', 'VBZ', 'DT', 'NN', 'IN', 'NNS', 'CC', 'NNS', 'IN', 'JJ', 'NN', ',', 'NNP', 'NNP', 'NNP', 'NNP', 'NNP', 'CD', ',', 'CD', 'NN', ':', 'JJ', 'NN', 'CD', 'NN', 'NNP', 'NNP', ',', 'NNP', 'NNP', ',', 'NNP', 'NNP', ',', 'NNP', 'NNP', 'NN', 'TO', 'VB', 'DT', 'JJ', 'NN', ':', 'RB', 'JJ', 'IN', 'JJ', 'NN', ',', 'NNP', 'NNP', 'NNP', 'CD', ',', 'CD', ':', 'NN', '.', '$', 'CD', 'NNP', 'NNP', ',', 'NNP', 'NNP', ',', 'NNP', 'NNP', 'NNP', 'NNP', 'IN', 'NNP', 'NNP', 'NNP', 'NNP', 'NNP', 'NNP', 'NNP', ',', 'NNP', 'NNP', 'NNP', 'IN', 'NNP', 'NNP', 'NNP', 'VBZ', 'CD', ',', 'NNP', 'CD', '(', 'NNP', 'CD', ')', '.', 'NN', ':', 'JJ', 'CD', '$', 'CD', 'NNP', 'NNP', 'NNP', 'IN', 'NNP', 'NN', 'IN', 'NNP', ',', 'NNP', 'NNP', 'NN', 'IN', 'JJ', 'NN', 'IN', 'NN', 'CC', 'NN', 'NNP', 'VBZ', 'CD', 'NNP', 'NN', '.', '$', 'CD', 'NNP', 'NNP', 'NNP', ',', 'NNP', 'NNP', ',', 'NNP', 'NNP', ',', 'NNP', 'NNP', 'NNP', 'NN', 'CC', 'NNP', ',', 'NNP', 'NNP', 'NNP', 'NNP', 'IN', 'NNP', 'NN', 'NNPS', ':', 'NN', 'CC', 'NNP', 'NNP', 'IN', 'NNP', 'NNP', 'NN', ',', 'NNP', 'NNP', 'NNP', 'NNP', ',', 'NNP', ',', 'CD', '.', 'VB', 'CD', 'NNP', 'NNP', 'NNP', 'NNP', ',', 'NNP', 'NNP', ',', 'NNP', 'NNP', 'IN', 'NNP', 'IN', 'NNP', 'NNP', 'NNP', 'FW', 'NN', ',', 'NNP', 'NNP', 'NNP', 'IN', 'NNP', 'NN', 'NNP', 'NNP', 'NNP', 'FW', 'NN', 'CD', ',', 'NNP', '.', 'CC', 'CD', 'JJ', 'NNP', ',', 'NNP', '.', ':', 'NNP', ',', 'NNP', '.', ':', 'NNP', ',', 'NNP', ':', 'NNP', ',', 'NNP', ':', 'NNP', ',', 'NNP', '.', ':', 'NNP', ',', 'NNP', ':', 'NNP', ',', 'NNP', ':', 'NNP', ',', 'NNP', ':', 'NNP', ',', 'NNP', ':', 'NNP', ',', 'NNP', 'NNP', 'NN', 'CC', 'NN', 'IN', 'DT', 'JJ', 'NN', ',', 'JJ', 'NN', 'CD', ',', 'NN', ',', 'CD', '.']\n"
     ]
    }
   ],
   "source": [
    "# Download the necessary NLTK data files (only needed once)\n",
    "nltk.download('punkt')\n",
    "nltk.download('averaged_perceptron_tagger')\n",
    "\n",
    "def extract_features(sentences):\n",
    "    # Tokenize the sentences into words\n",
    "    words = word_tokenize(\" \".join(sentences))\n",
    "    \n",
    "    # Perform POS tagging\n",
    "    pos_tags = nltk.pos_tag(words)\n",
    "    \n",
    "    # Extract only the POS tags (you can modify this if you need more information)\n",
    "    pos_only = [tag for word, tag in pos_tags]\n",
    "    \n",
    "    # Further feature extraction like TF-IDF or word embeddings can be done here\n",
    "    return pos_only\n",
    "\n",
    "# Use the sentences from preprocessing\n",
    "features = extract_features(sentences)\n",
    "print(features)"
   ]
  },
  {
   "cell_type": "markdown",
   "id": "5a854c21-01f9-4d9c-b312-2f96f8898d1d",
   "metadata": {},
   "source": [
    "# Step 5: Sentence Ranking"
   ]
  },
  {
   "cell_type": "markdown",
   "id": "b0e302b0-3d60-4871-b916-d158f9f1be18",
   "metadata": {},
   "source": [
    "## Develop Ranking Model:\n",
    "Use traditional ML models (like logistic regression) or transformer-based models to rank sentences.\n",
    "A basic approach could involve sentence length, keyword presence, or cosine similarity with the document title."
   ]
  },
  {
   "cell_type": "code",
   "execution_count": 21,
   "id": "50720805-d71b-479a-bf01-91f911085b89",
   "metadata": {},
   "outputs": [
    {
     "name": "stdout",
     "output_type": "stream",
     "text": [
      "['However, given\\nthat (i) symptoms/disease are affected by genetic and environ-\\nmental factors, (ii) the genetic view of susceptibility to dis-\\neases is not well-understood, and (iii) replicable susceptibility\\nalleles, in combination, account for only a moderate amount\\nof disease heritability, prediction of disease using genomes is\\ndifﬁcult [8].', 'G ENOMIC PREDICTOR FOR DISEASES\\nDisease prediction based symptoms and genome analysis\\nis one of the most interesting and challenging task.', 'Thus DNA can be\\nused for prediction of disease.', 'However,\\ngiven that (i) medical traits result from a complex interplay\\nbetween genetic and environmental factors, (ii) the underlying\\ngenetic architectures for susceptibility to common diseases are\\nnot well-understood, and (iii) replicable susceptibility alleles,\\nin combination, account for only a moderate amount of disease\\nheritability, there are substantial challenges to constructing and\\nimplementing genetic risk prediction models with high utility.', 'Given this model, it will serve\\nas a great help to predict the diseases on the basis of genes\\nand symptoms.']\n"
     ]
    }
   ],
   "source": [
    "from sklearn.feature_extraction.text import TfidfVectorizer\n",
    "from sklearn.metrics.pairwise import cosine_similarity\n",
    "\n",
    "def rank_sentences(sentences, features):\n",
    "    vectorizer = TfidfVectorizer()\n",
    "    tfidf_matrix = vectorizer.fit_transform(sentences)\n",
    "    similarity_matrix = cosine_similarity(tfidf_matrix)\n",
    "    ranked_sentences = sorted(\n",
    "        ((i, s) for i, s in enumerate(sentences)),\n",
    "        key=lambda x: sum(similarity_matrix[x[0]]), reverse=True)\n",
    "    return [sentences[i] for i, _ in ranked_sentences[:5]]\n",
    "\n",
    "ranked_summary = rank_sentences(sentences, features)\n",
    "print(ranked_summary)"
   ]
  },
  {
   "cell_type": "markdown",
   "id": "128ddafd-7049-490b-9e83-40922c363d7a",
   "metadata": {},
   "source": [
    "# Step 6: Summary Generation"
   ]
  },
  {
   "cell_type": "markdown",
   "id": "8e3dd58e-fc40-4b47-9001-ee83bb3cbad7",
   "metadata": {},
   "source": [
    "## Generate Summaries:\n",
    "Combine the top-ranked sentences to form the summary"
   ]
  },
  {
   "cell_type": "code",
   "execution_count": 22,
   "id": "df8aec79-e146-4734-ae96-b7900c660c81",
   "metadata": {},
   "outputs": [
    {
     "name": "stdout",
     "output_type": "stream",
     "text": [
      "However, given\n",
      "that (i) symptoms/disease are affected by genetic and environ-\n",
      "mental factors, (ii) the genetic view of susceptibility to dis-\n",
      "eases is not well-understood, and (iii) replicable susceptibility\n",
      "alleles, in combination, account for only a moderate amount\n",
      "of disease heritability, prediction of disease using genomes is\n",
      "difﬁcult [8]. G ENOMIC PREDICTOR FOR DISEASES\n",
      "Disease prediction based symptoms and genome analysis\n",
      "is one of the most interesting and challenging task. Thus DNA can be\n",
      "used for prediction of disease. However,\n",
      "given that (i) medical traits result from a complex interplay\n",
      "between genetic and environmental factors, (ii) the underlying\n",
      "genetic architectures for susceptibility to common diseases are\n",
      "not well-understood, and (iii) replicable susceptibility alleles,\n",
      "in combination, account for only a moderate amount of disease\n",
      "heritability, there are substantial challenges to constructing and\n",
      "implementing genetic risk prediction models with high utility. Given this model, it will serve\n",
      "as a great help to predict the diseases on the basis of genes\n",
      "and symptoms.\n"
     ]
    }
   ],
   "source": [
    "summary = \" \".join(ranked_summary)\n",
    "print(summary)"
   ]
  },
  {
   "cell_type": "markdown",
   "id": "3282c089-de78-4567-8f9e-75700554acf3",
   "metadata": {},
   "source": [
    "# Step 7: Evaluation"
   ]
  },
  {
   "cell_type": "markdown",
   "id": "35d74d42-52c9-4944-bac7-c3edac2ac653",
   "metadata": {},
   "source": [
    "## Evaluate Summaries:\n",
    "Use `ROUGE` metrics and manual evaluation."
   ]
  },
  {
   "cell_type": "code",
   "execution_count": 23,
   "id": "3bf74af6-1ca3-42f1-ab2d-475b9bde6dfc",
   "metadata": {},
   "outputs": [
    {
     "name": "stdout",
     "output_type": "stream",
     "text": [
      "{'rouge1': Score(precision=1.0, recall=1.0, fmeasure=1.0), 'rougeL': Score(precision=1.0, recall=1.0, fmeasure=1.0)}\n"
     ]
    }
   ],
   "source": [
    "from rouge_score import rouge_scorer\n",
    "\n",
    "# Assuming you have a reference summary for evaluation\n",
    "reference_summary = summary\n",
    "\n",
    "def evaluate_summary(reference, generated):\n",
    "    scorer = rouge_scorer.RougeScorer(['rouge1', 'rougeL'], use_stemmer=True)\n",
    "    scores = scorer.score(reference, generated)\n",
    "    return scores\n",
    "\n",
    "evaluation_scores = evaluate_summary(reference_summary, summary)\n",
    "print(evaluation_scores)"
   ]
  },
  {
   "cell_type": "markdown",
   "id": "5e5aaeb0-aef9-4ed6-96c9-eb90766077d2",
   "metadata": {},
   "source": [
    "# Step 8: Experimentation and Scaling"
   ]
  },
  {
   "cell_type": "markdown",
   "id": "39e10265-c6dc-4d3e-a3c1-ee361c167586",
   "metadata": {},
   "source": [
    "# Experiment with Models:\n",
    "\n",
    "Use Hugging Face’s transformers for a more advanced summarization model.\n",
    "Try different architectures and hyperparameters."
   ]
  },
  {
   "cell_type": "code",
   "execution_count": 14,
   "id": "babe6def-f63c-4d94-ba99-cb84cb8a071b",
   "metadata": {},
   "outputs": [],
   "source": [
    "# from transformers import pipeline\n",
    "\n",
    "# summarizer = pipeline(\"summarization\")\n",
    "# transformer_summary = summarizer(text)[0]['summary_text']\n",
    "# print(transformer_summary)"
   ]
  }
 ],
 "metadata": {
  "kernelspec": {
   "display_name": "Python 3 (ipykernel)",
   "language": "python",
   "name": "python3"
  },
  "language_info": {
   "codemirror_mode": {
    "name": "ipython",
    "version": 3
   },
   "file_extension": ".py",
   "mimetype": "text/x-python",
   "name": "python",
   "nbconvert_exporter": "python",
   "pygments_lexer": "ipython3",
   "version": "3.12.0"
  },
  "widgets": {
   "application/vnd.jupyter.widget-state+json": {
    "state": {},
    "version_major": 2,
    "version_minor": 0
   }
  }
 },
 "nbformat": 4,
 "nbformat_minor": 5
}
